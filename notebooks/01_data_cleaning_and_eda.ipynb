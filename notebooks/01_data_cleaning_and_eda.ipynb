{
 "cells": [
  {
   "cell_type": "markdown",
   "id": "2bd531bb-2bfc-4d79-8e68-e08a59991ef1",
   "metadata": {},
   "source": [
    "# Statistics & Public Health 1: Cleaning and EDA"
   ]
  },
  {
   "cell_type": "markdown",
   "id": "639b96bd-deeb-4ec7-a851-d6781a918e7c",
   "metadata": {},
   "source": [
    "\n",
    "West Nile Virus (WNV) is a viral illness largely spread by mosquitoes. The disease is transmitted to a person when an infected mosquito bites them.\n",
    "\n",
    "The city of Chicago, Illinois has been keeping track of mosquito populations and WNV prevalence using a series of traps that they place around the city. They are then able to study the captured specimens and monitor the state of WNV spread in the city.\n",
    "\n",
    "We are given mosquito tracking data from 2008 to 2019.\n",
    "\n",
    "In this deliverable, we will perform basic EDA and data wrangling to get familiar with the dataset from the city of Chicago."
   ]
  },
  {
   "cell_type": "markdown",
   "id": "38bd84ec-2331-48cc-9965-9ebe4bb51508",
   "metadata": {},
   "source": [
    "| **Field**          | **Description** | **DataType** | **Notes** |\n",
    "|---------------------|--------------------------------------------------------------------------------------------------------------------|---------------|---------------------------------------------------------------------------------------------------------------------------------------|\n",
    "| **Year**           | Year that the WNV test is performed                                                                                | `int64`       |                                                                                                                                       |\n",
    "| **Week**           | Week that the WNV test is performed                                                                                | `int64`       |                                                                                                                                       |\n",
    "| **Address Block**  | Address of the location of trap                                                                                    | `string`      |                                                                                                                                       |\n",
    "| **Block**          | Block number of address                                                                                           | `int64`       |                                                                                                                                       |\n",
    "| **Trap**           | ID of the trap                                                                                                    | `string`      | Some traps are \"satellite traps\". These traps are set up near (within 6 blocks) an established trap to enhance surveillance efforts. Satellite traps are postfixed with letters (e.g., T220A is a satellite trap to T220). |\n",
    "| **Trap Type**      | Type of trap                                                                                                      | `string`      |                                                                                                                                       |\n",
    "| **Date**           | Date and time that the WNV test is performed                                                                      | `string`      | Records only exist if a particular species of mosquitoes is found at a certain trap at a certain time.                                |\n",
    "| **Mosquito Number**| Number of mosquitoes caught in this trap                                                                          | `int64`       | When the number of mosquitoes exceeds 50, they are split into another record (another row in the dataset), capping at 50 per record.  |\n",
    "| **Mosquito ID**    | ID for Mosquito species                                                                                           | `string`      |                                                                                                                                       |\n",
    "| **WNV Present**    | Whether West Nile Virus was present in these mosquitoes                                                           | `string`      |                                                                                                                                       |\n",
    "| **Species**        | Mosquito species                                                                                                  | `string`      |                                                                                                                                       |\n",
    "| **Lat**            | Latitude of trap                                                                                                  | `float64`     |                                                                                                                                       |\n",
    "| **Lon**            | Longitude of trap                                                                                                | `float64`     |                                                                                                                                       |"
   ]
  },
  {
   "cell_type": "markdown",
   "id": "e4204f43-78e7-4126-8be5-b37dbf5f622c",
   "metadata": {},
   "source": [
    "#####################################################################################################################################################"
   ]
  },
  {
   "cell_type": "markdown",
   "id": "03329897-200b-49ed-ae20-cb348c15a5b7",
   "metadata": {},
   "source": [
    "## Library import"
   ]
  },
  {
   "cell_type": "code",
   "execution_count": 6,
   "id": "ad8196f9-235e-41b9-9acf-55ce7e666905",
   "metadata": {},
   "outputs": [],
   "source": [
    "# Import standard data science & visualization packages\n",
    "import numpy as np\n",
    "import pandas as pd\n",
    "import matplotlib.pyplot as plt\n",
    "import seaborn as sns\n",
    "%matplotlib inline"
   ]
  },
  {
   "cell_type": "code",
   "execution_count": 7,
   "id": "8af81108-1bfa-46cd-85f1-01d790ba0030",
   "metadata": {},
   "outputs": [],
   "source": [
    "# Setting globally figure size in the notebook\n",
    "plt.rcParams[\"figure.figsize\"] = (8, 6)"
   ]
  },
  {
   "cell_type": "markdown",
   "id": "446ebcf4-c31a-40b5-a57e-a2aca119c0dc",
   "metadata": {},
   "source": [
    "# Part 1 - Basic Data Wrangling\n"
   ]
  },
  {
   "cell_type": "code",
   "execution_count": 9,
   "id": "aa9bdd07-41c6-4aab-b2f0-3563b84259e9",
   "metadata": {},
   "outputs": [
    {
     "data": {
      "text/html": [
       "<div>\n",
       "<style scoped>\n",
       "    .dataframe tbody tr th:only-of-type {\n",
       "        vertical-align: middle;\n",
       "    }\n",
       "\n",
       "    .dataframe tbody tr th {\n",
       "        vertical-align: top;\n",
       "    }\n",
       "\n",
       "    .dataframe thead th {\n",
       "        text-align: right;\n",
       "    }\n",
       "</style>\n",
       "<table border=\"1\" class=\"dataframe\">\n",
       "  <thead>\n",
       "    <tr style=\"text-align: right;\">\n",
       "      <th></th>\n",
       "      <th>Year</th>\n",
       "      <th>Week</th>\n",
       "      <th>Address Block</th>\n",
       "      <th>Block</th>\n",
       "      <th>Trap</th>\n",
       "      <th>Trap type</th>\n",
       "      <th>Date</th>\n",
       "      <th>Mosquito number</th>\n",
       "      <th>Mosquito ID</th>\n",
       "      <th>WNV Present</th>\n",
       "      <th>Species</th>\n",
       "      <th>Lat</th>\n",
       "      <th>Lon</th>\n",
       "    </tr>\n",
       "  </thead>\n",
       "  <tbody>\n",
       "    <tr>\n",
       "      <th>0</th>\n",
       "      <td>2019</td>\n",
       "      <td>39</td>\n",
       "      <td>100XX W OHARE AIRPORT</td>\n",
       "      <td>100</td>\n",
       "      <td>T910</td>\n",
       "      <td>GRAVID</td>\n",
       "      <td>2019-09-26 00:09:00</td>\n",
       "      <td>2</td>\n",
       "      <td>Res</td>\n",
       "      <td>negative</td>\n",
       "      <td>CULEX RESTUANS</td>\n",
       "      <td>NaN</td>\n",
       "      <td>NaN</td>\n",
       "    </tr>\n",
       "    <tr>\n",
       "      <th>1</th>\n",
       "      <td>2019</td>\n",
       "      <td>39</td>\n",
       "      <td>52XX S KOLMAR AVE</td>\n",
       "      <td>52</td>\n",
       "      <td>T114</td>\n",
       "      <td>GRAVID</td>\n",
       "      <td>2019-09-26 00:09:00</td>\n",
       "      <td>1</td>\n",
       "      <td>Res</td>\n",
       "      <td>negative</td>\n",
       "      <td>CULEX RESTUANS</td>\n",
       "      <td>41.798211</td>\n",
       "      <td>-87.736925</td>\n",
       "    </tr>\n",
       "    <tr>\n",
       "      <th>2</th>\n",
       "      <td>2019</td>\n",
       "      <td>39</td>\n",
       "      <td>58XX N WESTERN AVE</td>\n",
       "      <td>58</td>\n",
       "      <td>T028</td>\n",
       "      <td>GRAVID</td>\n",
       "      <td>2019-09-26 00:09:00</td>\n",
       "      <td>2</td>\n",
       "      <td>Res</td>\n",
       "      <td>negative</td>\n",
       "      <td>CULEX RESTUANS</td>\n",
       "      <td>41.987245</td>\n",
       "      <td>-87.689417</td>\n",
       "    </tr>\n",
       "    <tr>\n",
       "      <th>3</th>\n",
       "      <td>2019</td>\n",
       "      <td>39</td>\n",
       "      <td>39XX N SPRINGFIELD AVE</td>\n",
       "      <td>39</td>\n",
       "      <td>T228</td>\n",
       "      <td>GRAVID</td>\n",
       "      <td>2019-09-26 00:09:00</td>\n",
       "      <td>1</td>\n",
       "      <td>Res</td>\n",
       "      <td>negative</td>\n",
       "      <td>CULEX RESTUANS</td>\n",
       "      <td>41.953664</td>\n",
       "      <td>-87.724987</td>\n",
       "    </tr>\n",
       "    <tr>\n",
       "      <th>4</th>\n",
       "      <td>2019</td>\n",
       "      <td>39</td>\n",
       "      <td>131XX S BRANDON AVE</td>\n",
       "      <td>131</td>\n",
       "      <td>T209</td>\n",
       "      <td>GRAVID</td>\n",
       "      <td>2019-09-26 00:09:00</td>\n",
       "      <td>9</td>\n",
       "      <td>Res</td>\n",
       "      <td>negative</td>\n",
       "      <td>CULEX RESTUANS</td>\n",
       "      <td>41.657069</td>\n",
       "      <td>-87.546049</td>\n",
       "    </tr>\n",
       "  </tbody>\n",
       "</table>\n",
       "</div>"
      ],
      "text/plain": [
       "   Year  Week           Address Block  Block  Trap Trap type  \\\n",
       "0  2019    39   100XX W OHARE AIRPORT    100  T910    GRAVID   \n",
       "1  2019    39       52XX S KOLMAR AVE     52  T114    GRAVID   \n",
       "2  2019    39      58XX N WESTERN AVE     58  T028    GRAVID   \n",
       "3  2019    39  39XX N SPRINGFIELD AVE     39  T228    GRAVID   \n",
       "4  2019    39     131XX S BRANDON AVE    131  T209    GRAVID   \n",
       "\n",
       "                  Date  Mosquito number Mosquito ID WNV Present  \\\n",
       "0  2019-09-26 00:09:00                2         Res    negative   \n",
       "1  2019-09-26 00:09:00                1         Res    negative   \n",
       "2  2019-09-26 00:09:00                2         Res    negative   \n",
       "3  2019-09-26 00:09:00                1         Res    negative   \n",
       "4  2019-09-26 00:09:00                9         Res    negative   \n",
       "\n",
       "          Species        Lat        Lon  \n",
       "0  CULEX RESTUANS        NaN        NaN  \n",
       "1  CULEX RESTUANS  41.798211 -87.736925  \n",
       "2  CULEX RESTUANS  41.987245 -87.689417  \n",
       "3  CULEX RESTUANS  41.953664 -87.724987  \n",
       "4  CULEX RESTUANS  41.657069 -87.546049  "
      ]
     },
     "execution_count": 9,
     "metadata": {},
     "output_type": "execute_result"
    }
   ],
   "source": [
    "# Read in data\n",
    "df = pd.read_csv('mosquito_data.csv')\n",
    "df.head()"
   ]
  },
  {
   "cell_type": "markdown",
   "id": "4b1dc414-4fbd-4241-965b-6ca03a5b9804",
   "metadata": {},
   "source": [
    "## Q1. What is shape of the data frame?"
   ]
  },
  {
   "cell_type": "code",
   "execution_count": 11,
   "id": "c3507fa6-9157-44e4-8faa-52ca1cea0186",
   "metadata": {},
   "outputs": [
    {
     "data": {
      "text/plain": [
       "(18495, 13)"
      ]
     },
     "execution_count": 11,
     "metadata": {},
     "output_type": "execute_result"
    }
   ],
   "source": [
    "df.shape"
   ]
  },
  {
   "cell_type": "markdown",
   "id": "5814b260-fa9b-414a-8cc3-788c743d377d",
   "metadata": {},
   "source": [
    "###  The data frame contains 18,495 rows and 13 columns/ features"
   ]
  },
  {
   "cell_type": "code",
   "execution_count": 13,
   "id": "9a65afcb-5717-4413-be49-1d027a0eb15c",
   "metadata": {},
   "outputs": [
    {
     "name": "stdout",
     "output_type": "stream",
     "text": [
      "<class 'pandas.core.frame.DataFrame'>\n",
      "RangeIndex: 18495 entries, 0 to 18494\n",
      "Data columns (total 13 columns):\n",
      " #   Column           Non-Null Count  Dtype  \n",
      "---  ------           --------------  -----  \n",
      " 0   Year             18495 non-null  int64  \n",
      " 1   Week             18495 non-null  int64  \n",
      " 2   Address Block    18495 non-null  object \n",
      " 3   Block            18495 non-null  int64  \n",
      " 4   Trap             18495 non-null  object \n",
      " 5   Trap type        18495 non-null  object \n",
      " 6   Date             18495 non-null  object \n",
      " 7   Mosquito number  18495 non-null  int64  \n",
      " 8   Mosquito ID      18495 non-null  object \n",
      " 9   WNV Present      18495 non-null  object \n",
      " 10  Species          18495 non-null  object \n",
      " 11  Lat              15571 non-null  float64\n",
      " 12  Lon              15571 non-null  float64\n",
      "dtypes: float64(2), int64(4), object(7)\n",
      "memory usage: 1.8+ MB\n"
     ]
    }
   ],
   "source": [
    "# Alternate way to find shape of data frame\n",
    "df.info()"
   ]
  },
  {
   "cell_type": "markdown",
   "id": "1fefe23e-51bc-4bd8-baa5-9ca9861a7029",
   "metadata": {},
   "source": [
    "## Q2.Convert the 'Date' column to have a datetime format."
   ]
  },
  {
   "cell_type": "code",
   "execution_count": 15,
   "id": "89d799b4-5600-433a-8721-46bd35480abc",
   "metadata": {},
   "outputs": [
    {
     "name": "stdout",
     "output_type": "stream",
     "text": [
      "<class 'pandas.core.series.Series'>\n",
      "RangeIndex: 18495 entries, 0 to 18494\n",
      "Series name: Date\n",
      "Non-Null Count  Dtype         \n",
      "--------------  -----         \n",
      "18495 non-null  datetime64[ns]\n",
      "dtypes: datetime64[ns](1)\n",
      "memory usage: 144.6 KB\n"
     ]
    }
   ],
   "source": [
    "df['Date']=pd.to_datetime(df['Date'])\n",
    "df['Date'].info()"
   ]
  },
  {
   "cell_type": "markdown",
   "id": "f905f67f-decd-4b0c-951c-9cc6b9a5b2cc",
   "metadata": {},
   "source": [
    "## Q3.Pick two numeric and two categorical columns: What data they are storing? How are they distributed?"
   ]
  },
  {
   "cell_type": "code",
   "execution_count": 17,
   "id": "8fcfd39a-3fd5-48dd-9f14-f2dc5628d4c1",
   "metadata": {},
   "outputs": [
    {
     "name": "stdout",
     "output_type": "stream",
     "text": [
      "<class 'pandas.core.frame.DataFrame'>\n",
      "RangeIndex: 18495 entries, 0 to 18494\n",
      "Data columns (total 13 columns):\n",
      " #   Column           Non-Null Count  Dtype         \n",
      "---  ------           --------------  -----         \n",
      " 0   Year             18495 non-null  int64         \n",
      " 1   Week             18495 non-null  int64         \n",
      " 2   Address Block    18495 non-null  object        \n",
      " 3   Block            18495 non-null  int64         \n",
      " 4   Trap             18495 non-null  object        \n",
      " 5   Trap type        18495 non-null  object        \n",
      " 6   Date             18495 non-null  datetime64[ns]\n",
      " 7   Mosquito number  18495 non-null  int64         \n",
      " 8   Mosquito ID      18495 non-null  object        \n",
      " 9   WNV Present      18495 non-null  object        \n",
      " 10  Species          18495 non-null  object        \n",
      " 11  Lat              15571 non-null  float64       \n",
      " 12  Lon              15571 non-null  float64       \n",
      "dtypes: datetime64[ns](1), float64(2), int64(4), object(6)\n",
      "memory usage: 1.8+ MB\n"
     ]
    }
   ],
   "source": [
    "df.info()"
   ]
  },
  {
   "cell_type": "code",
   "execution_count": 18,
   "id": "1bf0093a-3219-4704-936a-20f75c30d241",
   "metadata": {},
   "outputs": [
    {
     "data": {
      "text/plain": [
       "['Address Block', 'Trap', 'Trap type', 'Mosquito ID', 'WNV Present', 'Species']"
      ]
     },
     "execution_count": 18,
     "metadata": {},
     "output_type": "execute_result"
    }
   ],
   "source": [
    "cat_var=list(df.select_dtypes(include=['object'])) # storing all categorical variables as a list\n",
    "cat_var"
   ]
  },
  {
   "cell_type": "code",
   "execution_count": 19,
   "id": "162216f5-de09-4bd9-bd69-b45ebd9037fd",
   "metadata": {},
   "outputs": [
    {
     "data": {
      "text/plain": [
       "['Year', 'Week', 'Block', 'Mosquito number', 'Lat', 'Lon']"
      ]
     },
     "execution_count": 19,
     "metadata": {},
     "output_type": "execute_result"
    }
   ],
   "source": [
    "num_var=list(df.select_dtypes(exclude=['object','datetime'])) # storing all numerical variables as a list\n",
    "num_var"
   ]
  },
  {
   "cell_type": "markdown",
   "id": "d6432a68-cc48-41c3-a787-31dc5a526605",
   "metadata": {},
   "source": [
    "### Picking Species and Trap type as categorical variables and  Mosquito number and Year as  numeric variables"
   ]
  },
  {
   "cell_type": "code",
   "execution_count": 21,
   "id": "e489f9e3-e02e-4766-b710-fd668c52bff2",
   "metadata": {},
   "outputs": [
    {
     "name": "stdout",
     "output_type": "stream",
     "text": [
      "<class 'pandas.core.frame.DataFrame'>\n",
      "RangeIndex: 18495 entries, 0 to 18494\n",
      "Data columns (total 2 columns):\n",
      " #   Column     Non-Null Count  Dtype \n",
      "---  ------     --------------  ----- \n",
      " 0   Species    18495 non-null  object\n",
      " 1   Trap type  18495 non-null  object\n",
      "dtypes: object(2)\n",
      "memory usage: 289.1+ KB\n"
     ]
    }
   ],
   "source": [
    "df[['Species','Trap type']].info()"
   ]
  },
  {
   "cell_type": "markdown",
   "id": "492fd9a7-275d-4f48-9340-72159cd7fe89",
   "metadata": {},
   "source": [
    "### Species and Trap type are categorical variables with object data type"
   ]
  },
  {
   "cell_type": "code",
   "execution_count": 23,
   "id": "2cc2c67d-5810-4e33-b647-3caeeebae047",
   "metadata": {},
   "outputs": [
    {
     "data": {
      "text/plain": [
       "Species\n",
       "CULEX RESTUANS      11866\n",
       "CULEX PIPIENS        5486\n",
       "CULEX TERRITANS       917\n",
       "CULEX SALINARIUS      226\n",
       "Name: count, dtype: int64"
      ]
     },
     "execution_count": 23,
     "metadata": {},
     "output_type": "execute_result"
    }
   ],
   "source": [
    "df['Species'].value_counts()"
   ]
  },
  {
   "cell_type": "code",
   "execution_count": 24,
   "id": "7307a9d2-085e-4c81-b0a8-2cb99918aeae",
   "metadata": {},
   "outputs": [
    {
     "data": {
      "image/png": "[encoded data removed]",
      "text/plain": [
       "<Figure size 800x600 with 1 Axes>"
      ]
     },
     "metadata": {},
     "output_type": "display_data"
    }
   ],
   "source": [
    "df['Species'].value_counts().plot(kind='bar',color=['b','r','g','y'], title='Distribution of Mosquitos Species', ylabel= 'Count of Mosquitos', xlabel='Species', rot=0); \n",
    "# plotting value counts for Species"
   ]
  },
  {
   "cell_type": "code",
   "execution_count": 25,
   "id": "14b75541-a3db-4679-89ab-5cd2346caeff",
   "metadata": {},
   "outputs": [
    {
     "data": {
      "text/plain": [
       "Trap type\n",
       "GRAVID      17741\n",
       "CDC           544\n",
       "SENTINEL      209\n",
       "OVI             1\n",
       "Name: count, dtype: int64"
      ]
     },
     "execution_count": 25,
     "metadata": {},
     "output_type": "execute_result"
    }
   ],
   "source": [
    "df['Trap type'].value_counts()"
   ]
  },
  {
   "cell_type": "code",
   "execution_count": 26,
   "id": "2f131ed9-3209-4a77-b669-eb42c2cdc4d8",
   "metadata": {},
   "outputs": [
    {
     "data": {
      "image/png": "[encoded data removed]",
      "text/plain": [
       "<Figure size 800x600 with 1 Axes>"
      ]
     },
     "metadata": {},
     "output_type": "display_data"
    }
   ],
   "source": [
    "df['Trap type'].value_counts().plot(kind='bar',color=['b','r','g','y'], title='Distribution of  Trap Type', ylabel= 'Count of Mosquitos', xlabel='Trap type', rot=0);\n",
    "# plotting value counts for trap type"
   ]
  },
  {
   "cell_type": "markdown",
   "id": "fd0cd9a8-874c-4c72-979e-d24c2b2b7f65",
   "metadata": {},
   "source": [
    "### The categorical variables are storing strings/objects. For their distribution; the largest number of mosquitos are from CULEX RESTUANS species and lowest number of mosquitos are CULEX SALINARIUS species. Trap type with highest number of mosquito caught is GRAVID, similar OVI trap type catches the least."
   ]
  },
  {
   "cell_type": "code",
   "execution_count": 28,
   "id": "d213c09a-8eb1-486a-b7b7-28d1288cd774",
   "metadata": {},
   "outputs": [
    {
     "name": "stdout",
     "output_type": "stream",
     "text": [
      "<class 'pandas.core.frame.DataFrame'>\n",
      "RangeIndex: 18495 entries, 0 to 18494\n",
      "Data columns (total 2 columns):\n",
      " #   Column           Non-Null Count  Dtype\n",
      "---  ------           --------------  -----\n",
      " 0   Mosquito number  18495 non-null  int64\n",
      " 1   Year             18495 non-null  int64\n",
      "dtypes: int64(2)\n",
      "memory usage: 289.1 KB\n"
     ]
    }
   ],
   "source": [
    "df[['Mosquito number', 'Year']].info()"
   ]
  },
  {
   "cell_type": "markdown",
   "id": "a571a639-eb8a-4803-8131-56431c197a53",
   "metadata": {},
   "source": [
    "### Mosquito number and Year are numeric data types with int64 "
   ]
  },
  {
   "cell_type": "code",
   "execution_count": 30,
   "id": "43f6c14a-268a-4b95-99a3-55fb1bbb124d",
   "metadata": {},
   "outputs": [
    {
     "data": {
      "text/html": [
       "<div>\n",
       "<style scoped>\n",
       "    .dataframe tbody tr th:only-of-type {\n",
       "        vertical-align: middle;\n",
       "    }\n",
       "\n",
       "    .dataframe tbody tr th {\n",
       "        vertical-align: top;\n",
       "    }\n",
       "\n",
       "    .dataframe thead th {\n",
       "        text-align: right;\n",
       "    }\n",
       "</style>\n",
       "<table border=\"1\" class=\"dataframe\">\n",
       "  <thead>\n",
       "    <tr style=\"text-align: right;\">\n",
       "      <th></th>\n",
       "      <th>Mosquito number</th>\n",
       "      <th>Year</th>\n",
       "    </tr>\n",
       "  </thead>\n",
       "  <tbody>\n",
       "    <tr>\n",
       "      <th>count</th>\n",
       "      <td>18495.000000</td>\n",
       "      <td>18495.000000</td>\n",
       "    </tr>\n",
       "    <tr>\n",
       "      <th>mean</th>\n",
       "      <td>10.879913</td>\n",
       "      <td>2012.905812</td>\n",
       "    </tr>\n",
       "    <tr>\n",
       "      <th>std</th>\n",
       "      <td>13.475066</td>\n",
       "      <td>3.725857</td>\n",
       "    </tr>\n",
       "    <tr>\n",
       "      <th>min</th>\n",
       "      <td>1.000000</td>\n",
       "      <td>2007.000000</td>\n",
       "    </tr>\n",
       "    <tr>\n",
       "      <th>25%</th>\n",
       "      <td>2.000000</td>\n",
       "      <td>2010.000000</td>\n",
       "    </tr>\n",
       "    <tr>\n",
       "      <th>50%</th>\n",
       "      <td>5.000000</td>\n",
       "      <td>2013.000000</td>\n",
       "    </tr>\n",
       "    <tr>\n",
       "      <th>75%</th>\n",
       "      <td>14.000000</td>\n",
       "      <td>2016.000000</td>\n",
       "    </tr>\n",
       "    <tr>\n",
       "      <th>max</th>\n",
       "      <td>50.000000</td>\n",
       "      <td>2019.000000</td>\n",
       "    </tr>\n",
       "  </tbody>\n",
       "</table>\n",
       "</div>"
      ],
      "text/plain": [
       "       Mosquito number          Year\n",
       "count     18495.000000  18495.000000\n",
       "mean         10.879913   2012.905812\n",
       "std          13.475066      3.725857\n",
       "min           1.000000   2007.000000\n",
       "25%           2.000000   2010.000000\n",
       "50%           5.000000   2013.000000\n",
       "75%          14.000000   2016.000000\n",
       "max          50.000000   2019.000000"
      ]
     },
     "execution_count": 30,
     "metadata": {},
     "output_type": "execute_result"
    }
   ],
   "source": [
    "df[['Mosquito number','Year']].describe()"
   ]
  },
  {
   "cell_type": "code",
   "execution_count": 31,
   "id": "90922a5d-4333-4c4c-a7fb-b62786d03be7",
   "metadata": {},
   "outputs": [
    {
     "data": {
      "image/png": "[encoded data removed]",
      "text/plain": [
       "<Figure size 800x600 with 1 Axes>"
      ]
     },
     "metadata": {},
     "output_type": "display_data"
    }
   ],
   "source": [
    "plt.figure()\n",
    "plt.hist(x=df['Mosquito number'], alpha=0.8, bins=30, label='Mosquito Number')\n",
    "plt.axvline(df['Mosquito number'].median(), c='green', label='median')\n",
    "plt.axvline(df['Mosquito number'].mean(), c='red', label='mean')\n",
    "plt.xlabel('Count')\n",
    "plt.ylabel('Frequency')\n",
    "plt.title('Distribution of Mosquito Number')\n",
    "plt.legend();"
   ]
  },
  {
   "cell_type": "markdown",
   "id": "77e5b2a9-2b12-465b-9e02-a5c1f2d76034",
   "metadata": {},
   "source": [
    "### Mosquito number has a right skewed distribution, it is not a normal distribution"
   ]
  },
  {
   "cell_type": "code",
   "execution_count": 33,
   "id": "fee56104-76ae-48c1-beda-227aa31242a5",
   "metadata": {},
   "outputs": [
    {
     "data": {
      "text/plain": [
       "Year\n",
       "2007    2141\n",
       "2014    2000\n",
       "2016    1844\n",
       "2013    1624\n",
       "2010    1397\n",
       "2012    1392\n",
       "2018    1361\n",
       "2019    1209\n",
       "2015    1178\n",
       "2009    1135\n",
       "2011    1120\n",
       "2017    1110\n",
       "2008     984\n",
       "Name: count, dtype: int64"
      ]
     },
     "execution_count": 33,
     "metadata": {},
     "output_type": "execute_result"
    }
   ],
   "source": [
    "df['Year'].value_counts().sort_values(ascending=False)"
   ]
  },
  {
   "cell_type": "code",
   "execution_count": 34,
   "id": "9e32bcb4-0ae6-408d-a7d2-7dae5f98f9f8",
   "metadata": {},
   "outputs": [
    {
     "data": {
      "image/png": "[encoded data removed]",
      "text/plain": [
       "<Figure size 800x600 with 1 Axes>"
      ]
     },
     "metadata": {},
     "output_type": "display_data"
    }
   ],
   "source": [
    "df['Year'].value_counts().plot(kind='bar') # Showing value counts of Years\n",
    "plt.xlabel('Years')\n",
    "plt.ylabel('Count')\n",
    "plt.title('Distribution of Year')\n",
    "plt.legend();"
   ]
  },
  {
   "cell_type": "markdown",
   "id": "edb43162-1586-470d-a8c1-0f6352f7c972",
   "metadata": {},
   "source": [
    "### Year 2007 has the highest # of sample data values, while 2008 has the lowest number of sample data values"
   ]
  },
  {
   "cell_type": "markdown",
   "id": "2d0216e7-0570-46d6-a317-86fc517e3350",
   "metadata": {},
   "source": [
    "## Q4. Are there any columns that contain duplicate information? If so, remove the redundant columns."
   ]
  },
  {
   "cell_type": "code",
   "execution_count": 37,
   "id": "5252cb7a-1ec0-4219-af5a-4d8cbaaddd1c",
   "metadata": {},
   "outputs": [
    {
     "data": {
      "text/plain": [
       "Year               False\n",
       "Week               False\n",
       "Address Block      False\n",
       "Block              False\n",
       "Trap               False\n",
       "Trap type          False\n",
       "Date               False\n",
       "Mosquito number    False\n",
       "Mosquito ID        False\n",
       "WNV Present        False\n",
       "Species            False\n",
       "Lat                False\n",
       "Lon                False\n",
       "dtype: bool"
      ]
     },
     "execution_count": 37,
     "metadata": {},
     "output_type": "execute_result"
    }
   ],
   "source": [
    "df.T.duplicated() # T does the transpose and then we check for duplicated among the columns"
   ]
  },
  {
   "cell_type": "code",
   "execution_count": 38,
   "id": "bdcacdab-e38e-418b-92ea-d81003941fe2",
   "metadata": {},
   "outputs": [
    {
     "data": {
      "text/html": [
       "<div>\n",
       "<style scoped>\n",
       "    .dataframe tbody tr th:only-of-type {\n",
       "        vertical-align: middle;\n",
       "    }\n",
       "\n",
       "    .dataframe tbody tr th {\n",
       "        vertical-align: top;\n",
       "    }\n",
       "\n",
       "    .dataframe thead th {\n",
       "        text-align: right;\n",
       "    }\n",
       "</style>\n",
       "<table border=\"1\" class=\"dataframe\">\n",
       "  <thead>\n",
       "    <tr style=\"text-align: right;\">\n",
       "      <th></th>\n",
       "      <th>0</th>\n",
       "      <th>1</th>\n",
       "      <th>2</th>\n",
       "      <th>3</th>\n",
       "      <th>4</th>\n",
       "      <th>5</th>\n",
       "      <th>6</th>\n",
       "      <th>7</th>\n",
       "      <th>8</th>\n",
       "      <th>9</th>\n",
       "      <th>...</th>\n",
       "      <th>18485</th>\n",
       "      <th>18486</th>\n",
       "      <th>18487</th>\n",
       "      <th>18488</th>\n",
       "      <th>18489</th>\n",
       "      <th>18490</th>\n",
       "      <th>18491</th>\n",
       "      <th>18492</th>\n",
       "      <th>18493</th>\n",
       "      <th>18494</th>\n",
       "    </tr>\n",
       "  </thead>\n",
       "  <tbody>\n",
       "    <tr>\n",
       "      <th>Year</th>\n",
       "      <td>2019</td>\n",
       "      <td>2019</td>\n",
       "      <td>2019</td>\n",
       "      <td>2019</td>\n",
       "      <td>2019</td>\n",
       "      <td>2019</td>\n",
       "      <td>2019</td>\n",
       "      <td>2019</td>\n",
       "      <td>2019</td>\n",
       "      <td>2019</td>\n",
       "      <td>...</td>\n",
       "      <td>2018</td>\n",
       "      <td>2016</td>\n",
       "      <td>2007</td>\n",
       "      <td>2017</td>\n",
       "      <td>2013</td>\n",
       "      <td>2016</td>\n",
       "      <td>2007</td>\n",
       "      <td>2016</td>\n",
       "      <td>2017</td>\n",
       "      <td>2015</td>\n",
       "    </tr>\n",
       "    <tr>\n",
       "      <th>Week</th>\n",
       "      <td>39</td>\n",
       "      <td>39</td>\n",
       "      <td>39</td>\n",
       "      <td>39</td>\n",
       "      <td>39</td>\n",
       "      <td>39</td>\n",
       "      <td>39</td>\n",
       "      <td>39</td>\n",
       "      <td>39</td>\n",
       "      <td>39</td>\n",
       "      <td>...</td>\n",
       "      <td>33</td>\n",
       "      <td>29</td>\n",
       "      <td>33</td>\n",
       "      <td>30</td>\n",
       "      <td>35</td>\n",
       "      <td>36</td>\n",
       "      <td>34</td>\n",
       "      <td>30</td>\n",
       "      <td>33</td>\n",
       "      <td>33</td>\n",
       "    </tr>\n",
       "    <tr>\n",
       "      <th>Address Block</th>\n",
       "      <td>100XX W OHARE AIRPORT</td>\n",
       "      <td>52XX S KOLMAR AVE</td>\n",
       "      <td>58XX N WESTERN AVE</td>\n",
       "      <td>39XX N SPRINGFIELD AVE</td>\n",
       "      <td>131XX S BRANDON AVE</td>\n",
       "      <td>21XX N CANNON DR</td>\n",
       "      <td>11XX W ROOSEVELT RD</td>\n",
       "      <td>22XX W 51ST ST</td>\n",
       "      <td>22XX N CANNON DR</td>\n",
       "      <td>3XX W 104TH ST</td>\n",
       "      <td>...</td>\n",
       "      <td>58XX N RIDGE AVE</td>\n",
       "      <td>100XX W OHARE AIRPORT</td>\n",
       "      <td>17XX W 95TH ST</td>\n",
       "      <td>100XX W OHARE AIRPORT</td>\n",
       "      <td>63XX W 64TH ST</td>\n",
       "      <td>3XX W 18TH ST</td>\n",
       "      <td>46XX N MILWAUKEE AVE</td>\n",
       "      <td>127XX S DOTY AVE</td>\n",
       "      <td>20XX N DOMINICK ST</td>\n",
       "      <td>100XX W OHARE AIRPORT</td>\n",
       "    </tr>\n",
       "    <tr>\n",
       "      <th>Block</th>\n",
       "      <td>100</td>\n",
       "      <td>52</td>\n",
       "      <td>58</td>\n",
       "      <td>39</td>\n",
       "      <td>131</td>\n",
       "      <td>21</td>\n",
       "      <td>11</td>\n",
       "      <td>22</td>\n",
       "      <td>22</td>\n",
       "      <td>3</td>\n",
       "      <td>...</td>\n",
       "      <td>58</td>\n",
       "      <td>100</td>\n",
       "      <td>17</td>\n",
       "      <td>100</td>\n",
       "      <td>63</td>\n",
       "      <td>3</td>\n",
       "      <td>46</td>\n",
       "      <td>127</td>\n",
       "      <td>20</td>\n",
       "      <td>100</td>\n",
       "    </tr>\n",
       "    <tr>\n",
       "      <th>Trap</th>\n",
       "      <td>T910</td>\n",
       "      <td>T114</td>\n",
       "      <td>T028</td>\n",
       "      <td>T228</td>\n",
       "      <td>T209</td>\n",
       "      <td>T054C</td>\n",
       "      <td>T048</td>\n",
       "      <td>T061</td>\n",
       "      <td>T054A</td>\n",
       "      <td>T095</td>\n",
       "      <td>...</td>\n",
       "      <td>T231</td>\n",
       "      <td>T911</td>\n",
       "      <td>T094</td>\n",
       "      <td>T900</td>\n",
       "      <td>T155</td>\n",
       "      <td>T043</td>\n",
       "      <td>T003</td>\n",
       "      <td>T115</td>\n",
       "      <td>T240B</td>\n",
       "      <td>T902</td>\n",
       "    </tr>\n",
       "    <tr>\n",
       "      <th>Trap type</th>\n",
       "      <td>GRAVID</td>\n",
       "      <td>GRAVID</td>\n",
       "      <td>GRAVID</td>\n",
       "      <td>GRAVID</td>\n",
       "      <td>GRAVID</td>\n",
       "      <td>GRAVID</td>\n",
       "      <td>GRAVID</td>\n",
       "      <td>GRAVID</td>\n",
       "      <td>GRAVID</td>\n",
       "      <td>GRAVID</td>\n",
       "      <td>...</td>\n",
       "      <td>GRAVID</td>\n",
       "      <td>GRAVID</td>\n",
       "      <td>GRAVID</td>\n",
       "      <td>GRAVID</td>\n",
       "      <td>GRAVID</td>\n",
       "      <td>GRAVID</td>\n",
       "      <td>GRAVID</td>\n",
       "      <td>GRAVID</td>\n",
       "      <td>SENTINEL</td>\n",
       "      <td>GRAVID</td>\n",
       "    </tr>\n",
       "    <tr>\n",
       "      <th>Date</th>\n",
       "      <td>2019-09-26 00:09:00</td>\n",
       "      <td>2019-09-26 00:09:00</td>\n",
       "      <td>2019-09-26 00:09:00</td>\n",
       "      <td>2019-09-26 00:09:00</td>\n",
       "      <td>2019-09-26 00:09:00</td>\n",
       "      <td>2019-09-26 00:09:00</td>\n",
       "      <td>2019-09-26 00:09:00</td>\n",
       "      <td>2019-09-26 00:09:00</td>\n",
       "      <td>2019-09-26 00:09:00</td>\n",
       "      <td>2019-09-26 00:09:00</td>\n",
       "      <td>...</td>\n",
       "      <td>2018-08-16 00:08:00</td>\n",
       "      <td>2016-07-21 00:07:00</td>\n",
       "      <td>2007-08-22 00:08:00</td>\n",
       "      <td>2017-07-27 00:07:00</td>\n",
       "      <td>2013-08-29 00:08:00</td>\n",
       "      <td>2016-09-09 00:09:00</td>\n",
       "      <td>2007-08-24 00:08:00</td>\n",
       "      <td>2016-07-27 00:07:00</td>\n",
       "      <td>2017-08-17 00:08:00</td>\n",
       "      <td>2015-08-20 00:08:00</td>\n",
       "    </tr>\n",
       "    <tr>\n",
       "      <th>Mosquito number</th>\n",
       "      <td>2</td>\n",
       "      <td>1</td>\n",
       "      <td>2</td>\n",
       "      <td>1</td>\n",
       "      <td>9</td>\n",
       "      <td>2</td>\n",
       "      <td>3</td>\n",
       "      <td>2</td>\n",
       "      <td>1</td>\n",
       "      <td>1</td>\n",
       "      <td>...</td>\n",
       "      <td>3</td>\n",
       "      <td>47</td>\n",
       "      <td>28</td>\n",
       "      <td>17</td>\n",
       "      <td>3</td>\n",
       "      <td>4</td>\n",
       "      <td>19</td>\n",
       "      <td>34</td>\n",
       "      <td>50</td>\n",
       "      <td>6</td>\n",
       "    </tr>\n",
       "    <tr>\n",
       "      <th>Mosquito ID</th>\n",
       "      <td>Res</td>\n",
       "      <td>Res</td>\n",
       "      <td>Res</td>\n",
       "      <td>Res</td>\n",
       "      <td>Res</td>\n",
       "      <td>Res</td>\n",
       "      <td>Res</td>\n",
       "      <td>Res</td>\n",
       "      <td>Ter</td>\n",
       "      <td>Sal</td>\n",
       "      <td>...</td>\n",
       "      <td>Res</td>\n",
       "      <td>Res</td>\n",
       "      <td>Pip</td>\n",
       "      <td>Res</td>\n",
       "      <td>Pip</td>\n",
       "      <td>Pip</td>\n",
       "      <td>Pip</td>\n",
       "      <td>Res</td>\n",
       "      <td>Res</td>\n",
       "      <td>Res</td>\n",
       "    </tr>\n",
       "    <tr>\n",
       "      <th>WNV Present</th>\n",
       "      <td>negative</td>\n",
       "      <td>negative</td>\n",
       "      <td>negative</td>\n",
       "      <td>negative</td>\n",
       "      <td>negative</td>\n",
       "      <td>negative</td>\n",
       "      <td>negative</td>\n",
       "      <td>negative</td>\n",
       "      <td>negative</td>\n",
       "      <td>negative</td>\n",
       "      <td>...</td>\n",
       "      <td>positive</td>\n",
       "      <td>positive</td>\n",
       "      <td>positive</td>\n",
       "      <td>positive</td>\n",
       "      <td>positive</td>\n",
       "      <td>positive</td>\n",
       "      <td>positive</td>\n",
       "      <td>positive</td>\n",
       "      <td>positive</td>\n",
       "      <td>positive</td>\n",
       "    </tr>\n",
       "    <tr>\n",
       "      <th>Species</th>\n",
       "      <td>CULEX RESTUANS</td>\n",
       "      <td>CULEX RESTUANS</td>\n",
       "      <td>CULEX RESTUANS</td>\n",
       "      <td>CULEX RESTUANS</td>\n",
       "      <td>CULEX RESTUANS</td>\n",
       "      <td>CULEX RESTUANS</td>\n",
       "      <td>CULEX RESTUANS</td>\n",
       "      <td>CULEX RESTUANS</td>\n",
       "      <td>CULEX TERRITANS</td>\n",
       "      <td>CULEX SALINARIUS</td>\n",
       "      <td>...</td>\n",
       "      <td>CULEX RESTUANS</td>\n",
       "      <td>CULEX RESTUANS</td>\n",
       "      <td>CULEX PIPIENS</td>\n",
       "      <td>CULEX RESTUANS</td>\n",
       "      <td>CULEX PIPIENS</td>\n",
       "      <td>CULEX PIPIENS</td>\n",
       "      <td>CULEX PIPIENS</td>\n",
       "      <td>CULEX RESTUANS</td>\n",
       "      <td>CULEX RESTUANS</td>\n",
       "      <td>CULEX RESTUANS</td>\n",
       "    </tr>\n",
       "    <tr>\n",
       "      <th>Lat</th>\n",
       "      <td>NaN</td>\n",
       "      <td>41.798211</td>\n",
       "      <td>41.987245</td>\n",
       "      <td>41.953664</td>\n",
       "      <td>41.657069</td>\n",
       "      <td>41.921777</td>\n",
       "      <td>41.866915</td>\n",
       "      <td>41.801048</td>\n",
       "      <td>41.922737</td>\n",
       "      <td>41.705328</td>\n",
       "      <td>...</td>\n",
       "      <td>41.987884</td>\n",
       "      <td>NaN</td>\n",
       "      <td>41.721297</td>\n",
       "      <td>NaN</td>\n",
       "      <td>41.776009</td>\n",
       "      <td>41.857843</td>\n",
       "      <td>41.965376</td>\n",
       "      <td>41.662395</td>\n",
       "      <td>41.919197</td>\n",
       "      <td>NaN</td>\n",
       "    </tr>\n",
       "    <tr>\n",
       "      <th>Lon</th>\n",
       "      <td>NaN</td>\n",
       "      <td>-87.736925</td>\n",
       "      <td>-87.689417</td>\n",
       "      <td>-87.724987</td>\n",
       "      <td>-87.546049</td>\n",
       "      <td>-87.63214</td>\n",
       "      <td>-87.654919</td>\n",
       "      <td>-87.680425</td>\n",
       "      <td>-87.63245</td>\n",
       "      <td>-87.632955</td>\n",
       "      <td>...</td>\n",
       "      <td>-87.666776</td>\n",
       "      <td>NaN</td>\n",
       "      <td>-87.665235</td>\n",
       "      <td>NaN</td>\n",
       "      <td>-87.779408</td>\n",
       "      <td>-87.635858</td>\n",
       "      <td>-87.758403</td>\n",
       "      <td>-87.590176</td>\n",
       "      <td>-87.664758</td>\n",
       "      <td>NaN</td>\n",
       "    </tr>\n",
       "  </tbody>\n",
       "</table>\n",
       "<p>13 rows × 18495 columns</p>\n",
       "</div>"
      ],
      "text/plain": [
       "                                 0                    1      \\\n",
       "Year                              2019                 2019   \n",
       "Week                                39                   39   \n",
       "Address Block    100XX W OHARE AIRPORT    52XX S KOLMAR AVE   \n",
       "Block                              100                   52   \n",
       "Trap                              T910                 T114   \n",
       "Trap type                       GRAVID               GRAVID   \n",
       "Date               2019-09-26 00:09:00  2019-09-26 00:09:00   \n",
       "Mosquito number                      2                    1   \n",
       "Mosquito ID                        Res                  Res   \n",
       "WNV Present                   negative             negative   \n",
       "Species                 CULEX RESTUANS       CULEX RESTUANS   \n",
       "Lat                                NaN            41.798211   \n",
       "Lon                                NaN           -87.736925   \n",
       "\n",
       "                               2                       3      \\\n",
       "Year                            2019                    2019   \n",
       "Week                              39                      39   \n",
       "Address Block     58XX N WESTERN AVE  39XX N SPRINGFIELD AVE   \n",
       "Block                             58                      39   \n",
       "Trap                            T028                    T228   \n",
       "Trap type                     GRAVID                  GRAVID   \n",
       "Date             2019-09-26 00:09:00     2019-09-26 00:09:00   \n",
       "Mosquito number                    2                       1   \n",
       "Mosquito ID                      Res                     Res   \n",
       "WNV Present                 negative                negative   \n",
       "Species               CULEX RESTUANS          CULEX RESTUANS   \n",
       "Lat                        41.987245               41.953664   \n",
       "Lon                       -87.689417              -87.724987   \n",
       "\n",
       "                               4                    5      \\\n",
       "Year                            2019                 2019   \n",
       "Week                              39                   39   \n",
       "Address Block    131XX S BRANDON AVE     21XX N CANNON DR   \n",
       "Block                            131                   21   \n",
       "Trap                            T209                T054C   \n",
       "Trap type                     GRAVID               GRAVID   \n",
       "Date             2019-09-26 00:09:00  2019-09-26 00:09:00   \n",
       "Mosquito number                    9                    2   \n",
       "Mosquito ID                      Res                  Res   \n",
       "WNV Present                 negative             negative   \n",
       "Species               CULEX RESTUANS       CULEX RESTUANS   \n",
       "Lat                        41.657069            41.921777   \n",
       "Lon                       -87.546049            -87.63214   \n",
       "\n",
       "                               6                    7      \\\n",
       "Year                            2019                 2019   \n",
       "Week                              39                   39   \n",
       "Address Block    11XX W ROOSEVELT RD       22XX W 51ST ST   \n",
       "Block                             11                   22   \n",
       "Trap                            T048                 T061   \n",
       "Trap type                     GRAVID               GRAVID   \n",
       "Date             2019-09-26 00:09:00  2019-09-26 00:09:00   \n",
       "Mosquito number                    3                    2   \n",
       "Mosquito ID                      Res                  Res   \n",
       "WNV Present                 negative             negative   \n",
       "Species               CULEX RESTUANS       CULEX RESTUANS   \n",
       "Lat                        41.866915            41.801048   \n",
       "Lon                       -87.654919           -87.680425   \n",
       "\n",
       "                               8                    9      ...  \\\n",
       "Year                            2019                 2019  ...   \n",
       "Week                              39                   39  ...   \n",
       "Address Block       22XX N CANNON DR       3XX W 104TH ST  ...   \n",
       "Block                             22                    3  ...   \n",
       "Trap                           T054A                 T095  ...   \n",
       "Trap type                     GRAVID               GRAVID  ...   \n",
       "Date             2019-09-26 00:09:00  2019-09-26 00:09:00  ...   \n",
       "Mosquito number                    1                    1  ...   \n",
       "Mosquito ID                      Ter                  Sal  ...   \n",
       "WNV Present                 negative             negative  ...   \n",
       "Species              CULEX TERRITANS     CULEX SALINARIUS  ...   \n",
       "Lat                        41.922737            41.705328  ...   \n",
       "Lon                        -87.63245           -87.632955  ...   \n",
       "\n",
       "                               18485                  18486  \\\n",
       "Year                            2018                   2016   \n",
       "Week                              33                     29   \n",
       "Address Block       58XX N RIDGE AVE  100XX W OHARE AIRPORT   \n",
       "Block                             58                    100   \n",
       "Trap                            T231                   T911   \n",
       "Trap type                     GRAVID                 GRAVID   \n",
       "Date             2018-08-16 00:08:00    2016-07-21 00:07:00   \n",
       "Mosquito number                    3                     47   \n",
       "Mosquito ID                      Res                    Res   \n",
       "WNV Present                 positive               positive   \n",
       "Species               CULEX RESTUANS         CULEX RESTUANS   \n",
       "Lat                        41.987884                    NaN   \n",
       "Lon                       -87.666776                    NaN   \n",
       "\n",
       "                               18487                  18488  \\\n",
       "Year                            2007                   2017   \n",
       "Week                              33                     30   \n",
       "Address Block         17XX W 95TH ST  100XX W OHARE AIRPORT   \n",
       "Block                             17                    100   \n",
       "Trap                            T094                   T900   \n",
       "Trap type                     GRAVID                 GRAVID   \n",
       "Date             2007-08-22 00:08:00    2017-07-27 00:07:00   \n",
       "Mosquito number                   28                     17   \n",
       "Mosquito ID                      Pip                    Res   \n",
       "WNV Present                 positive               positive   \n",
       "Species                CULEX PIPIENS         CULEX RESTUANS   \n",
       "Lat                        41.721297                    NaN   \n",
       "Lon                       -87.665235                    NaN   \n",
       "\n",
       "                               18489                18490  \\\n",
       "Year                            2013                 2016   \n",
       "Week                              35                   36   \n",
       "Address Block         63XX W 64TH ST        3XX W 18TH ST   \n",
       "Block                             63                    3   \n",
       "Trap                            T155                 T043   \n",
       "Trap type                     GRAVID               GRAVID   \n",
       "Date             2013-08-29 00:08:00  2016-09-09 00:09:00   \n",
       "Mosquito number                    3                    4   \n",
       "Mosquito ID                      Pip                  Pip   \n",
       "WNV Present                 positive             positive   \n",
       "Species                CULEX PIPIENS        CULEX PIPIENS   \n",
       "Lat                        41.776009            41.857843   \n",
       "Lon                       -87.779408           -87.635858   \n",
       "\n",
       "                                18491                18492  \\\n",
       "Year                             2007                 2016   \n",
       "Week                               34                   30   \n",
       "Address Block    46XX N MILWAUKEE AVE     127XX S DOTY AVE   \n",
       "Block                              46                  127   \n",
       "Trap                             T003                 T115   \n",
       "Trap type                      GRAVID               GRAVID   \n",
       "Date              2007-08-24 00:08:00  2016-07-27 00:07:00   \n",
       "Mosquito number                    19                   34   \n",
       "Mosquito ID                       Pip                  Res   \n",
       "WNV Present                  positive             positive   \n",
       "Species                 CULEX PIPIENS       CULEX RESTUANS   \n",
       "Lat                         41.965376            41.662395   \n",
       "Lon                        -87.758403           -87.590176   \n",
       "\n",
       "                               18493                  18494  \n",
       "Year                            2017                   2015  \n",
       "Week                              33                     33  \n",
       "Address Block     20XX N DOMINICK ST  100XX W OHARE AIRPORT  \n",
       "Block                             20                    100  \n",
       "Trap                           T240B                   T902  \n",
       "Trap type                   SENTINEL                 GRAVID  \n",
       "Date             2017-08-17 00:08:00    2015-08-20 00:08:00  \n",
       "Mosquito number                   50                      6  \n",
       "Mosquito ID                      Res                    Res  \n",
       "WNV Present                 positive               positive  \n",
       "Species               CULEX RESTUANS         CULEX RESTUANS  \n",
       "Lat                        41.919197                    NaN  \n",
       "Lon                       -87.664758                    NaN  \n",
       "\n",
       "[13 rows x 18495 columns]"
      ]
     },
     "execution_count": 38,
     "metadata": {},
     "output_type": "execute_result"
    }
   ],
   "source": [
    "df.T"
   ]
  },
  {
   "cell_type": "markdown",
   "id": "3a6679e8-4fb4-4d48-b344-c62306a61a28",
   "metadata": {},
   "source": [
    "### Mosquito Id and Block can be dropped from df since they are similar to Species name and Address Block columns present in the data frame"
   ]
  },
  {
   "cell_type": "code",
   "execution_count": 40,
   "id": "34735a07-6d2c-4dc0-8fff-fc3e326cc321",
   "metadata": {},
   "outputs": [
    {
     "data": {
      "text/html": [
       "<div>\n",
       "<style scoped>\n",
       "    .dataframe tbody tr th:only-of-type {\n",
       "        vertical-align: middle;\n",
       "    }\n",
       "\n",
       "    .dataframe tbody tr th {\n",
       "        vertical-align: top;\n",
       "    }\n",
       "\n",
       "    .dataframe thead th {\n",
       "        text-align: right;\n",
       "    }\n",
       "</style>\n",
       "<table border=\"1\" class=\"dataframe\">\n",
       "  <thead>\n",
       "    <tr style=\"text-align: right;\">\n",
       "      <th></th>\n",
       "      <th>Year</th>\n",
       "      <th>Week</th>\n",
       "      <th>Address Block</th>\n",
       "      <th>Trap</th>\n",
       "      <th>Trap type</th>\n",
       "      <th>Date</th>\n",
       "      <th>Mosquito number</th>\n",
       "      <th>WNV Present</th>\n",
       "      <th>Species</th>\n",
       "      <th>Lat</th>\n",
       "      <th>Lon</th>\n",
       "    </tr>\n",
       "  </thead>\n",
       "  <tbody>\n",
       "    <tr>\n",
       "      <th>0</th>\n",
       "      <td>2019</td>\n",
       "      <td>39</td>\n",
       "      <td>100XX W OHARE AIRPORT</td>\n",
       "      <td>T910</td>\n",
       "      <td>GRAVID</td>\n",
       "      <td>2019-09-26 00:09:00</td>\n",
       "      <td>2</td>\n",
       "      <td>negative</td>\n",
       "      <td>CULEX RESTUANS</td>\n",
       "      <td>NaN</td>\n",
       "      <td>NaN</td>\n",
       "    </tr>\n",
       "    <tr>\n",
       "      <th>1</th>\n",
       "      <td>2019</td>\n",
       "      <td>39</td>\n",
       "      <td>52XX S KOLMAR AVE</td>\n",
       "      <td>T114</td>\n",
       "      <td>GRAVID</td>\n",
       "      <td>2019-09-26 00:09:00</td>\n",
       "      <td>1</td>\n",
       "      <td>negative</td>\n",
       "      <td>CULEX RESTUANS</td>\n",
       "      <td>41.798211</td>\n",
       "      <td>-87.736925</td>\n",
       "    </tr>\n",
       "    <tr>\n",
       "      <th>2</th>\n",
       "      <td>2019</td>\n",
       "      <td>39</td>\n",
       "      <td>58XX N WESTERN AVE</td>\n",
       "      <td>T028</td>\n",
       "      <td>GRAVID</td>\n",
       "      <td>2019-09-26 00:09:00</td>\n",
       "      <td>2</td>\n",
       "      <td>negative</td>\n",
       "      <td>CULEX RESTUANS</td>\n",
       "      <td>41.987245</td>\n",
       "      <td>-87.689417</td>\n",
       "    </tr>\n",
       "    <tr>\n",
       "      <th>3</th>\n",
       "      <td>2019</td>\n",
       "      <td>39</td>\n",
       "      <td>39XX N SPRINGFIELD AVE</td>\n",
       "      <td>T228</td>\n",
       "      <td>GRAVID</td>\n",
       "      <td>2019-09-26 00:09:00</td>\n",
       "      <td>1</td>\n",
       "      <td>negative</td>\n",
       "      <td>CULEX RESTUANS</td>\n",
       "      <td>41.953664</td>\n",
       "      <td>-87.724987</td>\n",
       "    </tr>\n",
       "    <tr>\n",
       "      <th>4</th>\n",
       "      <td>2019</td>\n",
       "      <td>39</td>\n",
       "      <td>131XX S BRANDON AVE</td>\n",
       "      <td>T209</td>\n",
       "      <td>GRAVID</td>\n",
       "      <td>2019-09-26 00:09:00</td>\n",
       "      <td>9</td>\n",
       "      <td>negative</td>\n",
       "      <td>CULEX RESTUANS</td>\n",
       "      <td>41.657069</td>\n",
       "      <td>-87.546049</td>\n",
       "    </tr>\n",
       "    <tr>\n",
       "      <th>...</th>\n",
       "      <td>...</td>\n",
       "      <td>...</td>\n",
       "      <td>...</td>\n",
       "      <td>...</td>\n",
       "      <td>...</td>\n",
       "      <td>...</td>\n",
       "      <td>...</td>\n",
       "      <td>...</td>\n",
       "      <td>...</td>\n",
       "      <td>...</td>\n",
       "      <td>...</td>\n",
       "    </tr>\n",
       "    <tr>\n",
       "      <th>18490</th>\n",
       "      <td>2016</td>\n",
       "      <td>36</td>\n",
       "      <td>3XX W 18TH ST</td>\n",
       "      <td>T043</td>\n",
       "      <td>GRAVID</td>\n",
       "      <td>2016-09-09 00:09:00</td>\n",
       "      <td>4</td>\n",
       "      <td>positive</td>\n",
       "      <td>CULEX PIPIENS</td>\n",
       "      <td>41.857843</td>\n",
       "      <td>-87.635858</td>\n",
       "    </tr>\n",
       "    <tr>\n",
       "      <th>18491</th>\n",
       "      <td>2007</td>\n",
       "      <td>34</td>\n",
       "      <td>46XX N MILWAUKEE AVE</td>\n",
       "      <td>T003</td>\n",
       "      <td>GRAVID</td>\n",
       "      <td>2007-08-24 00:08:00</td>\n",
       "      <td>19</td>\n",
       "      <td>positive</td>\n",
       "      <td>CULEX PIPIENS</td>\n",
       "      <td>41.965376</td>\n",
       "      <td>-87.758403</td>\n",
       "    </tr>\n",
       "    <tr>\n",
       "      <th>18492</th>\n",
       "      <td>2016</td>\n",
       "      <td>30</td>\n",
       "      <td>127XX S DOTY AVE</td>\n",
       "      <td>T115</td>\n",
       "      <td>GRAVID</td>\n",
       "      <td>2016-07-27 00:07:00</td>\n",
       "      <td>34</td>\n",
       "      <td>positive</td>\n",
       "      <td>CULEX RESTUANS</td>\n",
       "      <td>41.662395</td>\n",
       "      <td>-87.590176</td>\n",
       "    </tr>\n",
       "    <tr>\n",
       "      <th>18493</th>\n",
       "      <td>2017</td>\n",
       "      <td>33</td>\n",
       "      <td>20XX N DOMINICK ST</td>\n",
       "      <td>T240B</td>\n",
       "      <td>SENTINEL</td>\n",
       "      <td>2017-08-17 00:08:00</td>\n",
       "      <td>50</td>\n",
       "      <td>positive</td>\n",
       "      <td>CULEX RESTUANS</td>\n",
       "      <td>41.919197</td>\n",
       "      <td>-87.664758</td>\n",
       "    </tr>\n",
       "    <tr>\n",
       "      <th>18494</th>\n",
       "      <td>2015</td>\n",
       "      <td>33</td>\n",
       "      <td>100XX W OHARE AIRPORT</td>\n",
       "      <td>T902</td>\n",
       "      <td>GRAVID</td>\n",
       "      <td>2015-08-20 00:08:00</td>\n",
       "      <td>6</td>\n",
       "      <td>positive</td>\n",
       "      <td>CULEX RESTUANS</td>\n",
       "      <td>NaN</td>\n",
       "      <td>NaN</td>\n",
       "    </tr>\n",
       "  </tbody>\n",
       "</table>\n",
       "<p>18495 rows × 11 columns</p>\n",
       "</div>"
      ],
      "text/plain": [
       "       Year  Week           Address Block   Trap Trap type  \\\n",
       "0      2019    39   100XX W OHARE AIRPORT   T910    GRAVID   \n",
       "1      2019    39       52XX S KOLMAR AVE   T114    GRAVID   \n",
       "2      2019    39      58XX N WESTERN AVE   T028    GRAVID   \n",
       "3      2019    39  39XX N SPRINGFIELD AVE   T228    GRAVID   \n",
       "4      2019    39     131XX S BRANDON AVE   T209    GRAVID   \n",
       "...     ...   ...                     ...    ...       ...   \n",
       "18490  2016    36           3XX W 18TH ST   T043    GRAVID   \n",
       "18491  2007    34    46XX N MILWAUKEE AVE   T003    GRAVID   \n",
       "18492  2016    30        127XX S DOTY AVE   T115    GRAVID   \n",
       "18493  2017    33      20XX N DOMINICK ST  T240B  SENTINEL   \n",
       "18494  2015    33   100XX W OHARE AIRPORT   T902    GRAVID   \n",
       "\n",
       "                     Date  Mosquito number WNV Present         Species  \\\n",
       "0     2019-09-26 00:09:00                2    negative  CULEX RESTUANS   \n",
       "1     2019-09-26 00:09:00                1    negative  CULEX RESTUANS   \n",
       "2     2019-09-26 00:09:00                2    negative  CULEX RESTUANS   \n",
       "3     2019-09-26 00:09:00                1    negative  CULEX RESTUANS   \n",
       "4     2019-09-26 00:09:00                9    negative  CULEX RESTUANS   \n",
       "...                   ...              ...         ...             ...   \n",
       "18490 2016-09-09 00:09:00                4    positive   CULEX PIPIENS   \n",
       "18491 2007-08-24 00:08:00               19    positive   CULEX PIPIENS   \n",
       "18492 2016-07-27 00:07:00               34    positive  CULEX RESTUANS   \n",
       "18493 2017-08-17 00:08:00               50    positive  CULEX RESTUANS   \n",
       "18494 2015-08-20 00:08:00                6    positive  CULEX RESTUANS   \n",
       "\n",
       "             Lat        Lon  \n",
       "0            NaN        NaN  \n",
       "1      41.798211 -87.736925  \n",
       "2      41.987245 -87.689417  \n",
       "3      41.953664 -87.724987  \n",
       "4      41.657069 -87.546049  \n",
       "...          ...        ...  \n",
       "18490  41.857843 -87.635858  \n",
       "18491  41.965376 -87.758403  \n",
       "18492  41.662395 -87.590176  \n",
       "18493  41.919197 -87.664758  \n",
       "18494        NaN        NaN  \n",
       "\n",
       "[18495 rows x 11 columns]"
      ]
     },
     "execution_count": 40,
     "metadata": {},
     "output_type": "execute_result"
    }
   ],
   "source": [
    "df=df.drop(columns=['Mosquito ID', 'Block'])\n",
    "df"
   ]
  },
  {
   "cell_type": "markdown",
   "id": "b5e764e9-b22c-4c61-a90e-8f61f77420c4",
   "metadata": {},
   "source": [
    "# Q5.Are there any null values in the dataframe? If so, deal with them appropriately."
   ]
  },
  {
   "cell_type": "code",
   "execution_count": 42,
   "id": "1b97a200-4e73-4d77-9c78-4c5266d04c7a",
   "metadata": {},
   "outputs": [
    {
     "name": "stdout",
     "output_type": "stream",
     "text": [
      "<class 'pandas.core.frame.DataFrame'>\n",
      "RangeIndex: 18495 entries, 0 to 18494\n",
      "Data columns (total 11 columns):\n",
      " #   Column           Non-Null Count  Dtype         \n",
      "---  ------           --------------  -----         \n",
      " 0   Year             18495 non-null  int64         \n",
      " 1   Week             18495 non-null  int64         \n",
      " 2   Address Block    18495 non-null  object        \n",
      " 3   Trap             18495 non-null  object        \n",
      " 4   Trap type        18495 non-null  object        \n",
      " 5   Date             18495 non-null  datetime64[ns]\n",
      " 6   Mosquito number  18495 non-null  int64         \n",
      " 7   WNV Present      18495 non-null  object        \n",
      " 8   Species          18495 non-null  object        \n",
      " 9   Lat              15571 non-null  float64       \n",
      " 10  Lon              15571 non-null  float64       \n",
      "dtypes: datetime64[ns](1), float64(2), int64(3), object(5)\n",
      "memory usage: 1.6+ MB\n"
     ]
    }
   ],
   "source": [
    "df.info() "
   ]
  },
  {
   "cell_type": "markdown",
   "id": "bdf69534-2a5a-4ad8-b881-9975505c3fa9",
   "metadata": {},
   "source": [
    "### Null values mostly in  Latitude and Longitude columns/features"
   ]
  },
  {
   "cell_type": "code",
   "execution_count": 44,
   "id": "b8d92241-21e4-4d9f-b0d5-1cd962d58b87",
   "metadata": {},
   "outputs": [
    {
     "data": {
      "text/plain": [
       "Year                  0\n",
       "Week                  0\n",
       "Address Block         0\n",
       "Trap                  0\n",
       "Trap type             0\n",
       "Date                  0\n",
       "Mosquito number       0\n",
       "WNV Present           0\n",
       "Species               0\n",
       "Lat                2924\n",
       "Lon                2924\n",
       "dtype: int64"
      ]
     },
     "execution_count": 44,
     "metadata": {},
     "output_type": "execute_result"
    }
   ],
   "source": [
    "df.isna().sum() # to find sum of null values"
   ]
  },
  {
   "cell_type": "code",
   "execution_count": 45,
   "id": "21a8ed34-649a-46da-be7d-74815a166520",
   "metadata": {},
   "outputs": [
    {
     "data": {
      "text/plain": [
       "Year                0.000000\n",
       "Week                0.000000\n",
       "Address Block       0.000000\n",
       "Trap                0.000000\n",
       "Trap type           0.000000\n",
       "Date                0.000000\n",
       "Mosquito number     0.000000\n",
       "WNV Present         0.000000\n",
       "Species             0.000000\n",
       "Lat                15.809678\n",
       "Lon                15.809678\n",
       "dtype: float64"
      ]
     },
     "execution_count": 45,
     "metadata": {},
     "output_type": "execute_result"
    }
   ],
   "source": [
    "df.isna().mean()*100 # to find % of null values in the df"
   ]
  },
  {
   "cell_type": "markdown",
   "id": "3b76466c-c58f-41de-b99b-1241e6827cb9",
   "metadata": {},
   "source": [
    "### Almost ~16% of data is null in these two categories"
   ]
  },
  {
   "cell_type": "code",
   "execution_count": 47,
   "id": "c9d0423e-7a51-418b-8c7e-1b30144e3b1e",
   "metadata": {},
   "outputs": [
    {
     "data": {
      "text/html": [
       "<div>\n",
       "<style scoped>\n",
       "    .dataframe tbody tr th:only-of-type {\n",
       "        vertical-align: middle;\n",
       "    }\n",
       "\n",
       "    .dataframe tbody tr th {\n",
       "        vertical-align: top;\n",
       "    }\n",
       "\n",
       "    .dataframe thead th {\n",
       "        text-align: right;\n",
       "    }\n",
       "</style>\n",
       "<table border=\"1\" class=\"dataframe\">\n",
       "  <thead>\n",
       "    <tr style=\"text-align: right;\">\n",
       "      <th></th>\n",
       "      <th>Address Block</th>\n",
       "      <th>Null Count</th>\n",
       "    </tr>\n",
       "  </thead>\n",
       "  <tbody>\n",
       "    <tr>\n",
       "      <th>1</th>\n",
       "      <td>100XX W OHARE AIRPORT</td>\n",
       "      <td>2039</td>\n",
       "    </tr>\n",
       "    <tr>\n",
       "      <th>5</th>\n",
       "      <td>4XX W 127TH</td>\n",
       "      <td>301</td>\n",
       "    </tr>\n",
       "    <tr>\n",
       "      <th>0</th>\n",
       "      <td>100XX W OHARE</td>\n",
       "      <td>226</td>\n",
       "    </tr>\n",
       "    <tr>\n",
       "      <th>7</th>\n",
       "      <td>79XX S CHICAGO</td>\n",
       "      <td>136</td>\n",
       "    </tr>\n",
       "    <tr>\n",
       "      <th>8</th>\n",
       "      <td>81XX S ASHLAND</td>\n",
       "      <td>122</td>\n",
       "    </tr>\n",
       "    <tr>\n",
       "      <th>2</th>\n",
       "      <td>115XX S AVENUE L</td>\n",
       "      <td>40</td>\n",
       "    </tr>\n",
       "    <tr>\n",
       "      <th>6</th>\n",
       "      <td>65XX N OAK PARK AVE</td>\n",
       "      <td>24</td>\n",
       "    </tr>\n",
       "    <tr>\n",
       "      <th>3</th>\n",
       "      <td>30XX S HOYNE</td>\n",
       "      <td>15</td>\n",
       "    </tr>\n",
       "    <tr>\n",
       "      <th>9</th>\n",
       "      <td>98XX S AVENUE G</td>\n",
       "      <td>11</td>\n",
       "    </tr>\n",
       "    <tr>\n",
       "      <th>4</th>\n",
       "      <td>43XX N ASHLAND</td>\n",
       "      <td>10</td>\n",
       "    </tr>\n",
       "  </tbody>\n",
       "</table>\n",
       "</div>"
      ],
      "text/plain": [
       "           Address Block  Null Count\n",
       "1  100XX W OHARE AIRPORT        2039\n",
       "5            4XX W 127TH         301\n",
       "0          100XX W OHARE         226\n",
       "7         79XX S CHICAGO         136\n",
       "8         81XX S ASHLAND         122\n",
       "2       115XX S AVENUE L          40\n",
       "6    65XX N OAK PARK AVE          24\n",
       "3           30XX S HOYNE          15\n",
       "9        98XX S AVENUE G          11\n",
       "4         43XX N ASHLAND          10"
      ]
     },
     "execution_count": 47,
     "metadata": {},
     "output_type": "execute_result"
    }
   ],
   "source": [
    "# Finding the rows where Lat or Lon is null\n",
    "null_coords = df[df[['Lat', 'Lon']].isna().any(axis=1)]\n",
    "\n",
    "# Grouping by Address Block and count the number of null occurrences\n",
    "grouped_nulls = null_coords.groupby('Address Block')[['Lat', 'Lon']].size().reset_index(name='Null Count').sort_values(by='Null Count',ascending=False)\n",
    "grouped_nulls"
   ]
  },
  {
   "cell_type": "markdown",
   "id": "77813658-acac-4c12-b646-4122ba7421e3",
   "metadata": {},
   "source": [
    "### To remove these Null values we will replace them with coordinates found from Google for the corresponding Address Block"
   ]
  },
  {
   "cell_type": "code",
   "execution_count": 49,
   "id": "b1d2b434-2adc-4405-a008-186c666c97c4",
   "metadata": {},
   "outputs": [],
   "source": [
    "# Changing for Address Block: 100XX W OHARE AIRPORT \n",
    "lon= -87.904724\n",
    "lat = 41.978611 \n",
    "mask=df['Address Block']=='100XX W OHARE AIRPORT'\n",
    "df.loc[mask,'Lat']=df.loc[mask,'Lat'].fillna(lat)\n",
    "df.loc[mask,'Lon']=df.loc[mask,'Lon'].fillna(lon)       "
   ]
  },
  {
   "cell_type": "code",
   "execution_count": 50,
   "id": "c85696d0-0e76-424e-848b-d51ac319f4d5",
   "metadata": {
    "scrolled": true
   },
   "outputs": [
    {
     "data": {
      "text/plain": [
       "Year               0.000000\n",
       "Week               0.000000\n",
       "Address Block      0.000000\n",
       "Trap               0.000000\n",
       "Trap type          0.000000\n",
       "Date               0.000000\n",
       "Mosquito number    0.000000\n",
       "WNV Present        0.000000\n",
       "Species            0.000000\n",
       "Lat                4.785077\n",
       "Lon                4.785077\n",
       "dtype: float64"
      ]
     },
     "execution_count": 50,
     "metadata": {},
     "output_type": "execute_result"
    }
   ],
   "source": [
    "df.isna().mean()*100"
   ]
  },
  {
   "cell_type": "markdown",
   "id": "6b7d50d4-9506-4dee-b922-7442ef34e8df",
   "metadata": {},
   "source": [
    "### Null Values are still around ~5%"
   ]
  },
  {
   "cell_type": "code",
   "execution_count": 52,
   "id": "3cf9d059-6e90-4d22-b2b2-91df915d399d",
   "metadata": {},
   "outputs": [],
   "source": [
    "# Changing for Address Block: 4XX W 127TH\t\n",
    "lat= 41.6637864973916\n",
    "lon = -87.6239818632919\n",
    "mask=df['Address Block']=='4XX W 127TH'\n",
    "df.loc[mask,'Lat']=df.loc[mask,'Lat'].fillna(lat)\n",
    "df.loc[mask,'Lon']=df.loc[mask,'Lon'].fillna(lon)    "
   ]
  },
  {
   "cell_type": "code",
   "execution_count": 53,
   "id": "b44f4454-cad7-4586-a3bd-288417efb912",
   "metadata": {},
   "outputs": [
    {
     "data": {
      "text/plain": [
       "Year               0.00000\n",
       "Week               0.00000\n",
       "Address Block      0.00000\n",
       "Trap               0.00000\n",
       "Trap type          0.00000\n",
       "Date               0.00000\n",
       "Mosquito number    0.00000\n",
       "WNV Present        0.00000\n",
       "Species            0.00000\n",
       "Lat                3.15761\n",
       "Lon                3.15761\n",
       "dtype: float64"
      ]
     },
     "execution_count": 53,
     "metadata": {},
     "output_type": "execute_result"
    }
   ],
   "source": [
    "df.isna().mean()*100"
   ]
  },
  {
   "cell_type": "code",
   "execution_count": 54,
   "id": "6eb1ee61-c135-46fc-840a-62eae3c68b7b",
   "metadata": {},
   "outputs": [],
   "source": [
    "# Changing for Address Block: 100XX W OHARE same as before\n",
    "lon= -87.904724\n",
    "lat = 41.978611 \n",
    "mask=df['Address Block']=='100XX W OHARE'\n",
    "df.loc[mask,'Lat']=df.loc[mask,'Lat'].fillna(lat)\n",
    "df.loc[mask,'Lon']=df.loc[mask,'Lon'].fillna(lon)    "
   ]
  },
  {
   "cell_type": "code",
   "execution_count": 55,
   "id": "67f3724d-154d-4788-bceb-d97483ee19da",
   "metadata": {},
   "outputs": [
    {
     "data": {
      "text/plain": [
       "Year               0.000000\n",
       "Week               0.000000\n",
       "Address Block      0.000000\n",
       "Trap               0.000000\n",
       "Trap type          0.000000\n",
       "Date               0.000000\n",
       "Mosquito number    0.000000\n",
       "WNV Present        0.000000\n",
       "Species            0.000000\n",
       "Lat                1.935658\n",
       "Lon                1.935658\n",
       "dtype: float64"
      ]
     },
     "execution_count": 55,
     "metadata": {},
     "output_type": "execute_result"
    }
   ],
   "source": [
    "df.isna().mean()*100"
   ]
  },
  {
   "cell_type": "code",
   "execution_count": 56,
   "id": "eddc6483-74b7-42b4-b5fb-b0ff4822bc17",
   "metadata": {},
   "outputs": [],
   "source": [
    "# Changing for Address Block: 79XX S CHICAGO\n",
    "lat=41.7345874\n",
    "lon=-87.5513222\n",
    "mask=df['Address Block']=='79XX S CHICAGO'\n",
    "df.loc[mask,'Lat']=df.loc[mask,'Lat'].fillna(lat)\n",
    "df.loc[mask,'Lon']=df.loc[mask,'Lon'].fillna(lon)    "
   ]
  },
  {
   "cell_type": "code",
   "execution_count": 57,
   "id": "82a0e364-21df-4ff7-b058-fee99b2ff7bf",
   "metadata": {},
   "outputs": [
    {
     "data": {
      "text/plain": [
       "Year               0.000000\n",
       "Week               0.000000\n",
       "Address Block      0.000000\n",
       "Trap               0.000000\n",
       "Trap type          0.000000\n",
       "Date               0.000000\n",
       "Mosquito number    0.000000\n",
       "WNV Present        0.000000\n",
       "Species            0.000000\n",
       "Lat                1.200324\n",
       "Lon                1.200324\n",
       "dtype: float64"
      ]
     },
     "execution_count": 57,
     "metadata": {},
     "output_type": "execute_result"
    }
   ],
   "source": [
    "df.isna().mean()*100"
   ]
  },
  {
   "cell_type": "code",
   "execution_count": 58,
   "id": "c1fe4ad5-e19c-4ced-9176-999cc95b1dc5",
   "metadata": {},
   "outputs": [],
   "source": [
    "# Changing for Address Block: 81XX S ASHLAND\n",
    "lat=41.880719122449\n",
    "lon=-87.6665621020408\n",
    "mask=df['Address Block']=='79XX S CHICAGO'\n",
    "df.loc[mask,'Lat']=df.loc[mask,'Lat'].fillna(lat)\n",
    "df.loc[mask,'Lon']=df.loc[mask,'Lon'].fillna(lon)   "
   ]
  },
  {
   "cell_type": "code",
   "execution_count": 59,
   "id": "fa8f9631-51a7-482b-bd09-465c09fe88f0",
   "metadata": {},
   "outputs": [
    {
     "data": {
      "text/plain": [
       "Year               0.000000\n",
       "Week               0.000000\n",
       "Address Block      0.000000\n",
       "Trap               0.000000\n",
       "Trap type          0.000000\n",
       "Date               0.000000\n",
       "Mosquito number    0.000000\n",
       "WNV Present        0.000000\n",
       "Species            0.000000\n",
       "Lat                1.200324\n",
       "Lon                1.200324\n",
       "dtype: float64"
      ]
     },
     "execution_count": 59,
     "metadata": {},
     "output_type": "execute_result"
    }
   ],
   "source": [
    "df.isna().mean()*100"
   ]
  },
  {
   "cell_type": "markdown",
   "id": "5f73c13c-8173-4d2e-bb1b-2c53b3885e5e",
   "metadata": {},
   "source": [
    "### We can stop here, since adding the values to coordinates is not impacting much to our null values, we can drop the missing values for the remaining 1.2 % null data values"
   ]
  },
  {
   "cell_type": "markdown",
   "id": "7a81c3f6-746e-43be-804c-7bdf18dcccb2",
   "metadata": {},
   "source": [
    "Note: Used this website to find cordinates of Address Blocks: https://www.coordinatesfinder.com/"
   ]
  },
  {
   "cell_type": "code",
   "execution_count": 62,
   "id": "3c9b60ab-32a6-4c25-9b55-984a60d8ee37",
   "metadata": {},
   "outputs": [
    {
     "data": {
      "text/plain": [
       "Year               0.0\n",
       "Week               0.0\n",
       "Address Block      0.0\n",
       "Trap               0.0\n",
       "Trap type          0.0\n",
       "Date               0.0\n",
       "Mosquito number    0.0\n",
       "WNV Present        0.0\n",
       "Species            0.0\n",
       "Lat                0.0\n",
       "Lon                0.0\n",
       "dtype: float64"
      ]
     },
     "execution_count": 62,
     "metadata": {},
     "output_type": "execute_result"
    }
   ],
   "source": [
    "df.dropna(subset=['Lat', 'Lon'],axis=0,inplace=True) # Specifiy where to check for nulls and droping the rows in place\n",
    "df.isna().mean()*100"
   ]
  },
  {
   "cell_type": "code",
   "execution_count": 63,
   "id": "7a733574-c2b0-46cd-96e9-618dd8e4b163",
   "metadata": {},
   "outputs": [
    {
     "name": "stdout",
     "output_type": "stream",
     "text": [
      "<class 'pandas.core.frame.DataFrame'>\n",
      "Index: 18273 entries, 0 to 18494\n",
      "Data columns (total 11 columns):\n",
      " #   Column           Non-Null Count  Dtype         \n",
      "---  ------           --------------  -----         \n",
      " 0   Year             18273 non-null  int64         \n",
      " 1   Week             18273 non-null  int64         \n",
      " 2   Address Block    18273 non-null  object        \n",
      " 3   Trap             18273 non-null  object        \n",
      " 4   Trap type        18273 non-null  object        \n",
      " 5   Date             18273 non-null  datetime64[ns]\n",
      " 6   Mosquito number  18273 non-null  int64         \n",
      " 7   WNV Present      18273 non-null  object        \n",
      " 8   Species          18273 non-null  object        \n",
      " 9   Lat              18273 non-null  float64       \n",
      " 10  Lon              18273 non-null  float64       \n",
      "dtypes: datetime64[ns](1), float64(2), int64(3), object(5)\n",
      "memory usage: 1.7+ MB\n"
     ]
    }
   ],
   "source": [
    "df.info()"
   ]
  },
  {
   "cell_type": "code",
   "execution_count": 64,
   "id": "ebb8ccba-2bd6-4278-8d38-e616a0d8fbf2",
   "metadata": {},
   "outputs": [
    {
     "data": {
      "text/html": [
       "<div>\n",
       "<style scoped>\n",
       "    .dataframe tbody tr th:only-of-type {\n",
       "        vertical-align: middle;\n",
       "    }\n",
       "\n",
       "    .dataframe tbody tr th {\n",
       "        vertical-align: top;\n",
       "    }\n",
       "\n",
       "    .dataframe thead th {\n",
       "        text-align: right;\n",
       "    }\n",
       "</style>\n",
       "<table border=\"1\" class=\"dataframe\">\n",
       "  <thead>\n",
       "    <tr style=\"text-align: right;\">\n",
       "      <th></th>\n",
       "      <th>Year</th>\n",
       "      <th>Week</th>\n",
       "      <th>Address Block</th>\n",
       "      <th>Trap</th>\n",
       "      <th>Trap type</th>\n",
       "      <th>Date</th>\n",
       "      <th>Mosquito number</th>\n",
       "      <th>WNV Present</th>\n",
       "      <th>Species</th>\n",
       "      <th>Lat</th>\n",
       "      <th>Lon</th>\n",
       "    </tr>\n",
       "  </thead>\n",
       "  <tbody>\n",
       "    <tr>\n",
       "      <th>0</th>\n",
       "      <td>2019</td>\n",
       "      <td>39</td>\n",
       "      <td>100XX W OHARE AIRPORT</td>\n",
       "      <td>T910</td>\n",
       "      <td>GRAVID</td>\n",
       "      <td>2019-09-26 00:09:00</td>\n",
       "      <td>2</td>\n",
       "      <td>negative</td>\n",
       "      <td>CULEX RESTUANS</td>\n",
       "      <td>41.978611</td>\n",
       "      <td>-87.904724</td>\n",
       "    </tr>\n",
       "    <tr>\n",
       "      <th>1</th>\n",
       "      <td>2019</td>\n",
       "      <td>39</td>\n",
       "      <td>52XX S KOLMAR AVE</td>\n",
       "      <td>T114</td>\n",
       "      <td>GRAVID</td>\n",
       "      <td>2019-09-26 00:09:00</td>\n",
       "      <td>1</td>\n",
       "      <td>negative</td>\n",
       "      <td>CULEX RESTUANS</td>\n",
       "      <td>41.798211</td>\n",
       "      <td>-87.736925</td>\n",
       "    </tr>\n",
       "    <tr>\n",
       "      <th>2</th>\n",
       "      <td>2019</td>\n",
       "      <td>39</td>\n",
       "      <td>58XX N WESTERN AVE</td>\n",
       "      <td>T028</td>\n",
       "      <td>GRAVID</td>\n",
       "      <td>2019-09-26 00:09:00</td>\n",
       "      <td>2</td>\n",
       "      <td>negative</td>\n",
       "      <td>CULEX RESTUANS</td>\n",
       "      <td>41.987245</td>\n",
       "      <td>-87.689417</td>\n",
       "    </tr>\n",
       "    <tr>\n",
       "      <th>3</th>\n",
       "      <td>2019</td>\n",
       "      <td>39</td>\n",
       "      <td>39XX N SPRINGFIELD AVE</td>\n",
       "      <td>T228</td>\n",
       "      <td>GRAVID</td>\n",
       "      <td>2019-09-26 00:09:00</td>\n",
       "      <td>1</td>\n",
       "      <td>negative</td>\n",
       "      <td>CULEX RESTUANS</td>\n",
       "      <td>41.953664</td>\n",
       "      <td>-87.724987</td>\n",
       "    </tr>\n",
       "    <tr>\n",
       "      <th>4</th>\n",
       "      <td>2019</td>\n",
       "      <td>39</td>\n",
       "      <td>131XX S BRANDON AVE</td>\n",
       "      <td>T209</td>\n",
       "      <td>GRAVID</td>\n",
       "      <td>2019-09-26 00:09:00</td>\n",
       "      <td>9</td>\n",
       "      <td>negative</td>\n",
       "      <td>CULEX RESTUANS</td>\n",
       "      <td>41.657069</td>\n",
       "      <td>-87.546049</td>\n",
       "    </tr>\n",
       "  </tbody>\n",
       "</table>\n",
       "</div>"
      ],
      "text/plain": [
       "   Year  Week           Address Block  Trap Trap type                Date  \\\n",
       "0  2019    39   100XX W OHARE AIRPORT  T910    GRAVID 2019-09-26 00:09:00   \n",
       "1  2019    39       52XX S KOLMAR AVE  T114    GRAVID 2019-09-26 00:09:00   \n",
       "2  2019    39      58XX N WESTERN AVE  T028    GRAVID 2019-09-26 00:09:00   \n",
       "3  2019    39  39XX N SPRINGFIELD AVE  T228    GRAVID 2019-09-26 00:09:00   \n",
       "4  2019    39     131XX S BRANDON AVE  T209    GRAVID 2019-09-26 00:09:00   \n",
       "\n",
       "   Mosquito number WNV Present         Species        Lat        Lon  \n",
       "0                2    negative  CULEX RESTUANS  41.978611 -87.904724  \n",
       "1                1    negative  CULEX RESTUANS  41.798211 -87.736925  \n",
       "2                2    negative  CULEX RESTUANS  41.987245 -87.689417  \n",
       "3                1    negative  CULEX RESTUANS  41.953664 -87.724987  \n",
       "4                9    negative  CULEX RESTUANS  41.657069 -87.546049  "
      ]
     },
     "execution_count": 64,
     "metadata": {},
     "output_type": "execute_result"
    }
   ],
   "source": [
    "df.head()"
   ]
  },
  {
   "cell_type": "markdown",
   "id": "4be7cb3a-5577-4d10-a709-23a8e7c8b889",
   "metadata": {},
   "source": [
    "# Part 2 - Basic EDA"
   ]
  },
  {
   "cell_type": "markdown",
   "id": "df5d3d31-dace-40e7-a3cf-e4a8507d3bf8",
   "metadata": {},
   "source": [
    "### Q1. Using an appropriate visual, or visuals, explore the relationship between Mosquito number and Date."
   ]
  },
  {
   "cell_type": "markdown",
   "id": "60b3abdb-0848-4ac2-82e0-6280052f9728",
   "metadata": {},
   "source": [
    "### Since, both are numeric types we can do line plots or scatter"
   ]
  },
  {
   "cell_type": "code",
   "execution_count": 68,
   "id": "b9d0bddf-39e8-4b28-9d93-ee1776ee7f61",
   "metadata": {},
   "outputs": [
    {
     "data": {
      "text/html": [
       "<div>\n",
       "<style scoped>\n",
       "    .dataframe tbody tr th:only-of-type {\n",
       "        vertical-align: middle;\n",
       "    }\n",
       "\n",
       "    .dataframe tbody tr th {\n",
       "        vertical-align: top;\n",
       "    }\n",
       "\n",
       "    .dataframe thead th {\n",
       "        text-align: right;\n",
       "    }\n",
       "</style>\n",
       "<table border=\"1\" class=\"dataframe\">\n",
       "  <thead>\n",
       "    <tr style=\"text-align: right;\">\n",
       "      <th></th>\n",
       "      <th>Date</th>\n",
       "      <th>Mosquito number</th>\n",
       "    </tr>\n",
       "  </thead>\n",
       "  <tbody>\n",
       "    <tr>\n",
       "      <th>0</th>\n",
       "      <td>2019-09-26 00:09:00</td>\n",
       "      <td>2</td>\n",
       "    </tr>\n",
       "    <tr>\n",
       "      <th>1</th>\n",
       "      <td>2019-09-26 00:09:00</td>\n",
       "      <td>1</td>\n",
       "    </tr>\n",
       "    <tr>\n",
       "      <th>2</th>\n",
       "      <td>2019-09-26 00:09:00</td>\n",
       "      <td>2</td>\n",
       "    </tr>\n",
       "    <tr>\n",
       "      <th>3</th>\n",
       "      <td>2019-09-26 00:09:00</td>\n",
       "      <td>1</td>\n",
       "    </tr>\n",
       "    <tr>\n",
       "      <th>4</th>\n",
       "      <td>2019-09-26 00:09:00</td>\n",
       "      <td>9</td>\n",
       "    </tr>\n",
       "  </tbody>\n",
       "</table>\n",
       "</div>"
      ],
      "text/plain": [
       "                 Date  Mosquito number\n",
       "0 2019-09-26 00:09:00                2\n",
       "1 2019-09-26 00:09:00                1\n",
       "2 2019-09-26 00:09:00                2\n",
       "3 2019-09-26 00:09:00                1\n",
       "4 2019-09-26 00:09:00                9"
      ]
     },
     "execution_count": 68,
     "metadata": {},
     "output_type": "execute_result"
    }
   ],
   "source": [
    "df[['Date','Mosquito number']].head()"
   ]
  },
  {
   "cell_type": "code",
   "execution_count": 69,
   "id": "675cc838-4098-433d-9206-8a00f35faee4",
   "metadata": {},
   "outputs": [
    {
     "name": "stdout",
     "output_type": "stream",
     "text": [
      "<class 'pandas.core.frame.DataFrame'>\n",
      "Index: 18273 entries, 0 to 18494\n",
      "Data columns (total 2 columns):\n",
      " #   Column           Non-Null Count  Dtype         \n",
      "---  ------           --------------  -----         \n",
      " 0   Mosquito number  18273 non-null  int64         \n",
      " 1   Date             18273 non-null  datetime64[ns]\n",
      "dtypes: datetime64[ns](1), int64(1)\n",
      "memory usage: 428.3 KB\n"
     ]
    }
   ],
   "source": [
    "df[['Mosquito number', 'Date']].info()"
   ]
  },
  {
   "cell_type": "code",
   "execution_count": 70,
   "id": "f30a371a-8887-46af-ac2d-ea4704e7e505",
   "metadata": {
    "scrolled": true
   },
   "outputs": [
    {
     "data": {
      "text/html": [
       "<div>\n",
       "<style scoped>\n",
       "    .dataframe tbody tr th:only-of-type {\n",
       "        vertical-align: middle;\n",
       "    }\n",
       "\n",
       "    .dataframe tbody tr th {\n",
       "        vertical-align: top;\n",
       "    }\n",
       "\n",
       "    .dataframe thead th {\n",
       "        text-align: right;\n",
       "    }\n",
       "</style>\n",
       "<table border=\"1\" class=\"dataframe\">\n",
       "  <thead>\n",
       "    <tr style=\"text-align: right;\">\n",
       "      <th></th>\n",
       "      <th>Date</th>\n",
       "      <th>Mosquito number</th>\n",
       "    </tr>\n",
       "  </thead>\n",
       "  <tbody>\n",
       "    <tr>\n",
       "      <th>0</th>\n",
       "      <td>2007-05-29 00:05:00</td>\n",
       "      <td>16</td>\n",
       "    </tr>\n",
       "    <tr>\n",
       "      <th>1</th>\n",
       "      <td>2007-06-05 00:06:00</td>\n",
       "      <td>38</td>\n",
       "    </tr>\n",
       "    <tr>\n",
       "      <th>2</th>\n",
       "      <td>2007-06-26 04:06:06</td>\n",
       "      <td>9</td>\n",
       "    </tr>\n",
       "    <tr>\n",
       "      <th>3</th>\n",
       "      <td>2007-06-26 04:06:07</td>\n",
       "      <td>5</td>\n",
       "    </tr>\n",
       "    <tr>\n",
       "      <th>4</th>\n",
       "      <td>2007-06-26 04:06:56</td>\n",
       "      <td>6</td>\n",
       "    </tr>\n",
       "  </tbody>\n",
       "</table>\n",
       "</div>"
      ],
      "text/plain": [
       "                 Date  Mosquito number\n",
       "0 2007-05-29 00:05:00               16\n",
       "1 2007-06-05 00:06:00               38\n",
       "2 2007-06-26 04:06:06                9\n",
       "3 2007-06-26 04:06:07                5\n",
       "4 2007-06-26 04:06:56                6"
      ]
     },
     "execution_count": 70,
     "metadata": {},
     "output_type": "execute_result"
    }
   ],
   "source": [
    "grouped_date_df=df['Mosquito number'].groupby(df['Date']).count().reset_index() # grouping by date and counting values for the date\n",
    "grouped_date_df.head()"
   ]
  },
  {
   "cell_type": "code",
   "execution_count": 71,
   "id": "3e1de810-6323-4652-88fb-ce41fc8d59d3",
   "metadata": {},
   "outputs": [
    {
     "data": {
      "image/png": "[encoded data removed]",
      "text/plain": [
       "<Figure size 800x600 with 1 Axes>"
      ]
     },
     "metadata": {},
     "output_type": "display_data"
    }
   ],
   "source": [
    "plt.figure()\n",
    "plt.plot(grouped_date_df['Date'],grouped_date_df['Mosquito number'])\n",
    "plt.xlabel(\"Date\")\n",
    "plt.ylabel(\"Mosquito Number\")\n",
    "plt.title('Relationship between Mosquito Number and Date')\n",
    "plt.show()"
   ]
  },
  {
   "cell_type": "markdown",
   "id": "2c403bb7-4e26-494c-8de3-c9b1083e51aa",
   "metadata": {},
   "source": [
    "### Difficult to see a good trend here, trying to break date in weeks and years to see if there is a better trend."
   ]
  },
  {
   "cell_type": "code",
   "execution_count": 73,
   "id": "4faffc1c-a329-4d5d-9a64-26b6ec9f2323",
   "metadata": {},
   "outputs": [
    {
     "data": {
      "text/html": [
       "<div>\n",
       "<style scoped>\n",
       "    .dataframe tbody tr th:only-of-type {\n",
       "        vertical-align: middle;\n",
       "    }\n",
       "\n",
       "    .dataframe tbody tr th {\n",
       "        vertical-align: top;\n",
       "    }\n",
       "\n",
       "    .dataframe thead th {\n",
       "        text-align: right;\n",
       "    }\n",
       "</style>\n",
       "<table border=\"1\" class=\"dataframe\">\n",
       "  <thead>\n",
       "    <tr style=\"text-align: right;\">\n",
       "      <th></th>\n",
       "      <th>Week</th>\n",
       "      <th>Mosquito number</th>\n",
       "    </tr>\n",
       "  </thead>\n",
       "  <tbody>\n",
       "    <tr>\n",
       "      <th>0</th>\n",
       "      <td>20</td>\n",
       "      <td>95</td>\n",
       "    </tr>\n",
       "    <tr>\n",
       "      <th>1</th>\n",
       "      <td>21</td>\n",
       "      <td>403</td>\n",
       "    </tr>\n",
       "    <tr>\n",
       "      <th>2</th>\n",
       "      <td>22</td>\n",
       "      <td>621</td>\n",
       "    </tr>\n",
       "    <tr>\n",
       "      <th>3</th>\n",
       "      <td>23</td>\n",
       "      <td>4983</td>\n",
       "    </tr>\n",
       "    <tr>\n",
       "      <th>4</th>\n",
       "      <td>24</td>\n",
       "      <td>8656</td>\n",
       "    </tr>\n",
       "  </tbody>\n",
       "</table>\n",
       "</div>"
      ],
      "text/plain": [
       "   Week  Mosquito number\n",
       "0    20               95\n",
       "1    21              403\n",
       "2    22              621\n",
       "3    23             4983\n",
       "4    24             8656"
      ]
     },
     "execution_count": 73,
     "metadata": {},
     "output_type": "execute_result"
    }
   ],
   "source": [
    "grouped_week_df=df['Mosquito number'].groupby(df['Week']).sum().reset_index() # suming numbers acording to weeks\n",
    "grouped_week_df.head()\n"
   ]
  },
  {
   "cell_type": "code",
   "execution_count": 74,
   "id": "a41b746c-f6d9-489b-91d5-0a951ad03144",
   "metadata": {},
   "outputs": [
    {
     "data": {
      "image/png": "[encoded data removed]",
      "text/plain": [
       "<Figure size 800x600 with 1 Axes>"
      ]
     },
     "metadata": {},
     "output_type": "display_data"
    }
   ],
   "source": [
    "plt.figure()\n",
    "plt.plot(grouped_week_df['Week'],grouped_week_df['Mosquito number'])\n",
    "plt.xlabel(\"Week\")\n",
    "plt.ylabel(\"Mosquito Number\")\n",
    "plt.title('Relationship between Mosquito Number and Week Number')\n",
    "plt.show()"
   ]
  },
  {
   "cell_type": "markdown",
   "id": "d1af02c6-ccab-434f-8905-19e3a7b8b2ca",
   "metadata": {},
   "source": [
    "### Weeks 30-32 have highest number of Mosquitos"
   ]
  },
  {
   "cell_type": "code",
   "execution_count": 75,
   "id": "2534f8d1-9ccb-4cb0-85f4-ec4070a29067",
   "metadata": {},
   "outputs": [
    {
     "data": {
      "text/html": [
       "<div>\n",
       "<style scoped>\n",
       "    .dataframe tbody tr th:only-of-type {\n",
       "        vertical-align: middle;\n",
       "    }\n",
       "\n",
       "    .dataframe tbody tr th {\n",
       "        vertical-align: top;\n",
       "    }\n",
       "\n",
       "    .dataframe thead th {\n",
       "        text-align: right;\n",
       "    }\n",
       "</style>\n",
       "<table border=\"1\" class=\"dataframe\">\n",
       "  <thead>\n",
       "    <tr style=\"text-align: right;\">\n",
       "      <th></th>\n",
       "      <th>Year</th>\n",
       "      <th>Mosquito number</th>\n",
       "    </tr>\n",
       "  </thead>\n",
       "  <tbody>\n",
       "    <tr>\n",
       "      <th>0</th>\n",
       "      <td>2007</td>\n",
       "      <td>23379</td>\n",
       "    </tr>\n",
       "    <tr>\n",
       "      <th>1</th>\n",
       "      <td>2008</td>\n",
       "      <td>3867</td>\n",
       "    </tr>\n",
       "    <tr>\n",
       "      <th>2</th>\n",
       "      <td>2009</td>\n",
       "      <td>5523</td>\n",
       "    </tr>\n",
       "    <tr>\n",
       "      <th>3</th>\n",
       "      <td>2010</td>\n",
       "      <td>8107</td>\n",
       "    </tr>\n",
       "    <tr>\n",
       "      <th>4</th>\n",
       "      <td>2011</td>\n",
       "      <td>7780</td>\n",
       "    </tr>\n",
       "  </tbody>\n",
       "</table>\n",
       "</div>"
      ],
      "text/plain": [
       "   Year  Mosquito number\n",
       "0  2007            23379\n",
       "1  2008             3867\n",
       "2  2009             5523\n",
       "3  2010             8107\n",
       "4  2011             7780"
      ]
     },
     "execution_count": 75,
     "metadata": {},
     "output_type": "execute_result"
    }
   ],
   "source": [
    "grouped_year_df=df['Mosquito number'].groupby(df['Year']).sum().reset_index()\n",
    "grouped_year_df.head()"
   ]
  },
  {
   "cell_type": "code",
   "execution_count": 76,
   "id": "e451a6e3-2dbb-4757-8451-b482b8519e62",
   "metadata": {},
   "outputs": [
    {
     "data": {
      "image/png": "[encoded data removed]",
      "text/plain": [
       "<Figure size 800x600 with 1 Axes>"
      ]
     },
     "metadata": {},
     "output_type": "display_data"
    }
   ],
   "source": [
    "plt.figure()\n",
    "plt.plot(grouped_year_df['Year'],grouped_year_df['Mosquito number'])\n",
    "plt.xlabel(\"Year\")\n",
    "plt.ylabel(\"Mosquito Number\")\n",
    "plt.title('Relationship between Mosquito Number and Year')\n",
    "plt.show()"
   ]
  },
  {
   "cell_type": "markdown",
   "id": "fb6bb33f-002f-4679-9ede-c21c6f747ce9",
   "metadata": {},
   "source": [
    "### Trend shows the Mosquitos caught are the highest in 2016."
   ]
  },
  {
   "cell_type": "code",
   "execution_count": 77,
   "id": "305d7252-389c-45e6-9cd3-279a57613b24",
   "metadata": {},
   "outputs": [
    {
     "data": {
      "image/png": "[encoded data removed]",
      "text/plain": [
       "<Figure size 800x600 with 3 Axes>"
      ]
     },
     "metadata": {},
     "output_type": "display_data"
    }
   ],
   "source": [
    "# Plotting trends over these variables  vs Mosquito number in 1 plot\n",
    "plt.subplots(3, 1) \n",
    "\n",
    "plt.subplot(3, 1, 1)  # First position\n",
    "plt.plot(grouped_week_df['Week'],grouped_week_df['Mosquito number'])\n",
    "plt.xlabel(\"Week\")\n",
    "plt.ylabel(\"Mosquito Number\")\n",
    "\n",
    "plt.subplot(3, 1, 2)  # Second position\n",
    "plt.plot(grouped_year_df['Year'],grouped_year_df['Mosquito number'])\n",
    "plt.xlabel(\"Year\")\n",
    "plt.ylabel(\"Mosquito Number\")\n",
    "\n",
    "plt.subplot(3, 1, 3)  # Third position\n",
    "plt.plot(grouped_date_df['Date'],grouped_date_df['Mosquito number'])\n",
    "plt.xlabel(\"Date\")\n",
    "plt.ylabel(\"Mosquito Number\")\n",
    "\n",
    "\n",
    "plt.tight_layout()  #to remove any overlap in plots\n",
    "plt.show()"
   ]
  },
  {
   "cell_type": "markdown",
   "id": "1efff605-f69b-480e-a144-d4281025e389",
   "metadata": {},
   "source": [
    "### According to the distribution it seems like no mosquitos caught in the intial months of Jan- April and later months of the year similar  Nov-December of the year, most were caught in the summer June-August; weeks 25-35."
   ]
  },
  {
   "cell_type": "markdown",
   "id": "3ad95f5d-ab8f-43f4-89ef-40652d3b2599",
   "metadata": {},
   "source": [
    "# Part 3 - Advanced EDA\n",
    "## Q.1. Using an appropriate visual, explore the relationship between mosquito species and WNV prevalence.\n",
    "\n"
   ]
  },
  {
   "cell_type": "code",
   "execution_count": 80,
   "id": "82dad7a2-a0ce-42d6-98d9-2453269decf1",
   "metadata": {},
   "outputs": [
    {
     "data": {
      "text/html": [
       "<div>\n",
       "<style scoped>\n",
       "    .dataframe tbody tr th:only-of-type {\n",
       "        vertical-align: middle;\n",
       "    }\n",
       "\n",
       "    .dataframe tbody tr th {\n",
       "        vertical-align: top;\n",
       "    }\n",
       "\n",
       "    .dataframe thead th {\n",
       "        text-align: right;\n",
       "    }\n",
       "</style>\n",
       "<table border=\"1\" class=\"dataframe\">\n",
       "  <thead>\n",
       "    <tr style=\"text-align: right;\">\n",
       "      <th></th>\n",
       "      <th>Species</th>\n",
       "      <th>WNV Present</th>\n",
       "    </tr>\n",
       "  </thead>\n",
       "  <tbody>\n",
       "    <tr>\n",
       "      <th>0</th>\n",
       "      <td>CULEX RESTUANS</td>\n",
       "      <td>negative</td>\n",
       "    </tr>\n",
       "    <tr>\n",
       "      <th>1</th>\n",
       "      <td>CULEX RESTUANS</td>\n",
       "      <td>negative</td>\n",
       "    </tr>\n",
       "    <tr>\n",
       "      <th>2</th>\n",
       "      <td>CULEX RESTUANS</td>\n",
       "      <td>negative</td>\n",
       "    </tr>\n",
       "    <tr>\n",
       "      <th>3</th>\n",
       "      <td>CULEX RESTUANS</td>\n",
       "      <td>negative</td>\n",
       "    </tr>\n",
       "    <tr>\n",
       "      <th>4</th>\n",
       "      <td>CULEX RESTUANS</td>\n",
       "      <td>negative</td>\n",
       "    </tr>\n",
       "  </tbody>\n",
       "</table>\n",
       "</div>"
      ],
      "text/plain": [
       "          Species WNV Present\n",
       "0  CULEX RESTUANS    negative\n",
       "1  CULEX RESTUANS    negative\n",
       "2  CULEX RESTUANS    negative\n",
       "3  CULEX RESTUANS    negative\n",
       "4  CULEX RESTUANS    negative"
      ]
     },
     "execution_count": 80,
     "metadata": {},
     "output_type": "execute_result"
    }
   ],
   "source": [
    "df[['Species','WNV Present']].head()"
   ]
  },
  {
   "cell_type": "code",
   "execution_count": 81,
   "id": "b02b12f2-46e1-41f0-86d0-a11d8b3a4440",
   "metadata": {},
   "outputs": [
    {
     "data": {
      "text/plain": [
       "Species\n",
       "CULEX RESTUANS      11757\n",
       "CULEX PIPIENS        5386\n",
       "CULEX TERRITANS       908\n",
       "CULEX SALINARIUS      222\n",
       "Name: count, dtype: int64"
      ]
     },
     "execution_count": 81,
     "metadata": {},
     "output_type": "execute_result"
    }
   ],
   "source": [
    "df['Species'].value_counts() # Displaying species present and their count"
   ]
  },
  {
   "cell_type": "code",
   "execution_count": 82,
   "id": "026662ef-cf94-4add-a497-2ebfac11e979",
   "metadata": {},
   "outputs": [
    {
     "data": {
      "text/plain": [
       "WNV Present\n",
       "negative    14312\n",
       "positive     3961\n",
       "Name: count, dtype: int64"
      ]
     },
     "execution_count": 82,
     "metadata": {},
     "output_type": "execute_result"
    }
   ],
   "source": [
    " df['WNV Present'].value_counts() # Displaying positive cases and negative cases"
   ]
  },
  {
   "cell_type": "code",
   "execution_count": 83,
   "id": "561d4caf-6849-4f7e-b1c8-3678242b23c5",
   "metadata": {},
   "outputs": [
    {
     "data": {
      "text/html": [
       "<div>\n",
       "<style scoped>\n",
       "    .dataframe tbody tr th:only-of-type {\n",
       "        vertical-align: middle;\n",
       "    }\n",
       "\n",
       "    .dataframe tbody tr th {\n",
       "        vertical-align: top;\n",
       "    }\n",
       "\n",
       "    .dataframe thead th {\n",
       "        text-align: right;\n",
       "    }\n",
       "</style>\n",
       "<table border=\"1\" class=\"dataframe\">\n",
       "  <thead>\n",
       "    <tr style=\"text-align: right;\">\n",
       "      <th>WNV Present</th>\n",
       "      <th>negative</th>\n",
       "      <th>positive</th>\n",
       "    </tr>\n",
       "    <tr>\n",
       "      <th>Species</th>\n",
       "      <th></th>\n",
       "      <th></th>\n",
       "    </tr>\n",
       "  </thead>\n",
       "  <tbody>\n",
       "    <tr>\n",
       "      <th>CULEX PIPIENS</th>\n",
       "      <td>3998</td>\n",
       "      <td>1388</td>\n",
       "    </tr>\n",
       "    <tr>\n",
       "      <th>CULEX RESTUANS</th>\n",
       "      <td>9209</td>\n",
       "      <td>2548</td>\n",
       "    </tr>\n",
       "    <tr>\n",
       "      <th>CULEX SALINARIUS</th>\n",
       "      <td>211</td>\n",
       "      <td>11</td>\n",
       "    </tr>\n",
       "    <tr>\n",
       "      <th>CULEX TERRITANS</th>\n",
       "      <td>894</td>\n",
       "      <td>14</td>\n",
       "    </tr>\n",
       "  </tbody>\n",
       "</table>\n",
       "</div>"
      ],
      "text/plain": [
       "WNV Present       negative  positive\n",
       "Species                             \n",
       "CULEX PIPIENS         3998      1388\n",
       "CULEX RESTUANS        9209      2548\n",
       "CULEX SALINARIUS       211        11\n",
       "CULEX TERRITANS        894        14"
      ]
     },
     "execution_count": 83,
     "metadata": {},
     "output_type": "execute_result"
    }
   ],
   "source": [
    "mask_df=df['WNV Present'].groupby(df['Species']).value_counts()\n",
    "mask_df.unstack() # to unstack colums from one another"
   ]
  },
  {
   "cell_type": "code",
   "execution_count": 84,
   "id": "5b92660a-d7f7-4a32-98b9-8b74e1df5ce0",
   "metadata": {},
   "outputs": [
    {
     "data": {
      "image/png": "[encoded data removed]",
      "text/plain": [
       "<Figure size 800x600 with 1 Axes>"
      ]
     },
     "metadata": {},
     "output_type": "display_data"
    }
   ],
   "source": [
    "mask_df.unstack().plot.bar(stacked=False, title=\"Mosquito species vs WNV prevalence\", ylabel='Number of Prevelant Cases'); # stack here to show on the same bar"
   ]
  },
  {
   "cell_type": "markdown",
   "id": "1b217a3e-3b61-47d1-b4a8-fbbf5750eade",
   "metadata": {},
   "source": [
    "### In this data set, the species RESTUANS has the highest number of WNV positive presence,  followed by PIPIENS, SALINARIUS and TERRITANS.The higher the number of WNV  positive cases in RESTUANS could be be a result of the highest number of samples (~11,000) we have for this species as well. "
   ]
  },
  {
   "cell_type": "markdown",
   "id": "7be5beaa-099c-4ca0-9546-440d02767b31",
   "metadata": {},
   "source": [
    "## Q 2. Using an appropriate visual, explore the relationship between the number of mosquitos caught and trap type.\n",
    "Note: This visual should be a different type of visualization than the previous one\n",
    "\n"
   ]
  },
  {
   "cell_type": "code",
   "execution_count": 87,
   "id": "4d120b5d-4b44-4aa3-b9f4-b2db42a5362f",
   "metadata": {},
   "outputs": [
    {
     "name": "stderr",
     "output_type": "stream",
     "text": [
      "C:\\Users\\karni\\AppData\\Local\\Temp\\ipykernel_34268\\4277570354.py:6: UserWarning: No artists with labels found to put in legend.  Note that artists whose label start with an underscore are ignored when legend() is called with no argument.\n",
      "  plt.legend()\n"
     ]
    },
    {
     "data": {
      "image/png": "[encoded data removed]",
      "text/plain": [
       "<Figure size 1000x600 with 1 Axes>"
      ]
     },
     "metadata": {},
     "output_type": "display_data"
    }
   ],
   "source": [
    "plt.figure(figsize=(10, 6))\n",
    "sns.boxplot(x='Trap type', y='Mosquito number', data=df)\n",
    "plt.title('Number of Mosquitos Caught vs Trap Type')\n",
    "plt.xlabel('Trap Type')\n",
    "plt.ylabel('Mosquito Number')\n",
    "plt.legend()\n",
    "plt.show()\n"
   ]
  },
  {
   "cell_type": "markdown",
   "id": "ba780ce0-80e7-4285-bfb6-81baa81aedd7",
   "metadata": {},
   "source": [
    "This box plot visually compares the effectiveness of different trap types in capturing mosquitoes:\n",
    "\n",
    "**GRAVID Trap** : Contains highest number of outliers present among the four traps,this inicates it might occasionally perform significantly better than expected others.\n",
    "\n",
    "**SENTINEL Trap**: Captures mosquitos in significant numbers, probably due to highest median among the four\n",
    "\n",
    "**CDC Trap**: Similar effectiveness as the SENTINEL trap, but with lower median\n",
    " \n",
    "**OVI Trap**:Appears ineffective in capturing mosquitoes as median seems close to null\n"
   ]
  },
  {
   "cell_type": "markdown",
   "id": "07558813-91b2-4775-9ef2-f2ba35a5db5e",
   "metadata": {},
   "source": [
    "## Q3. Using an appropriate visual, come up with an additional insight of your choice.\n",
    "## Note: This visual should be a different type of visualization than the previous two"
   ]
  },
  {
   "cell_type": "code",
   "execution_count": 90,
   "id": "e5fdcf31-0cbf-418d-b408-ff673cc241e5",
   "metadata": {},
   "outputs": [
    {
     "data": {
      "image/png": "[encoded data removed]",
      "text/plain": [
       "<Figure size 1000x600 with 1 Axes>"
      ]
     },
     "metadata": {},
     "output_type": "display_data"
    }
   ],
   "source": [
    "# Convert WNV Present to a binary color map (e.g., red for positive, blue for negative)\n",
    "color_map = {\"positive\": \"red\", \"negative\": \"blue\"}\n",
    "\n",
    "# Plot\n",
    "plt.figure(figsize=(10, 6)) # Scatter to show realtionship\n",
    "sns.scatterplot(\n",
    "    data=df,\n",
    "    x=\"Trap type\",\n",
    "    y=\"Mosquito number\",\n",
    "    hue=\"WNV Present\", # for color\n",
    "    palette=color_map,\n",
    "    s=100\n",
    ")\n",
    "\n",
    "plt.title(\"Mosquito Count per Trap\")\n",
    "plt.xlabel(\"Trap ID\")\n",
    "plt.ylabel(\"Mosquito Number\")\n",
    "plt.legend(title=\"WNV Present\")\n",
    "plt.grid(True)\n",
    "plt.tight_layout()\n",
    "plt.show()\n",
    "\n"
   ]
  },
  {
   "cell_type": "markdown",
   "id": "a8ef3300-11b9-4ec0-9afb-f0ec4715603d",
   "metadata": {},
   "source": [
    "### Highest number of WNV positive mosquitos are caught by GRAVID trap, followed by SENTINEL and CDC, while OVI trap catches few WNV negative mosquitos"
   ]
  },
  {
   "cell_type": "markdown",
   "id": "def7bd00-2b79-4dbd-bacc-e059822d771b",
   "metadata": {},
   "source": [
    "########################################################################################################################################"
   ]
  },
  {
   "cell_type": "code",
   "execution_count": null,
   "id": "84ee6cce-accd-4a26-bcf7-1f88074700b8",
   "metadata": {},
   "outputs": [],
   "source": []
  }
 ],
 "metadata": {
  "kernelspec": {
   "display_name": "base_env",
   "language": "python",
   "name": "base_env"
  },
  "language_info": {
   "codemirror_mode": {
    "name": "ipython",
    "version": 3
   },
   "file_extension": ".py",
   "mimetype": "text/x-python",
   "name": "python",
   "nbconvert_exporter": "python",
   "pygments_lexer": "ipython3",
   "version": "3.11.5"
  }
 },
 "nbformat": 4,
 "nbformat_minor": 5
}
